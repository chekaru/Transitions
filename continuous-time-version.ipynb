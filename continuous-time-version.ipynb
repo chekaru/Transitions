{
 "cells": [
  {
   "cell_type": "code",
   "execution_count": 8,
   "metadata": {
    "collapsed": true
   },
   "outputs": [],
   "source": [
    "import numpy as np\n",
    "\n",
    "import pycollocation"
   ]
  },
  {
   "cell_type": "markdown",
   "metadata": {},
   "source": [
    "I based the following on lecture notes on [investment with adjustment costs](http://eml.berkeley.edu/~webfac/gourinchas/e202a_f14/Notes_Investment_pog.pdf) from UC Berkeley.\n",
    "\n",
    "## Non-renewable energy sector\n",
    "\n",
    "Sector combines capital, $K_{NR}$, and fossil fuels, $F$, to produce energy $E_{NR}$ via standard Cobb-Douglas production function.\n",
    "\n",
    "$$ E_{NR}(t) = \\psi K_{NR}(t)^{\\beta}F(t)^{1-\\beta} \\tag{1} $$\n",
    "\n",
    "### Profits\n",
    "\n",
    "Sector profits are...\n",
    "\n",
    "$$ \\Pi_{NR}(t) = P_E E_{NR}(t) - P_F F(t) - P_K\\big(1 + C(I_{NR}, K_{NR})\\big)I_{NR}(t) \\tag{2} $$\n",
    "\n",
    "...where $P_E$, $P_F$, and $P_K$ are, respectively, the prices of energy, fossil fuels, and capital goods; finally, $C(I, K)$ represents the *percentage* increase in costs required to install one unit of capital. In what follows I use the following formulation for the adjustment costs function.\n",
    "\n",
    "$$ C(I_{NR}(t), K_{NR}(t)) = \\frac{\\phi}{2}\\bigg(\\frac{I_{NR}(t)}{K_{NR}(t)} - \\delta\\bigg)^2 \\tag{3} $$\n",
    "\n",
    "Note that this formulation implies that percentage adjustment costs are *convex* in the level of investment; since adjustment costs depend on the ratio of investment to installed capital, percentage adjustment costs scale up with the level of capital. \n",
    "\n",
    "### Objective\n",
    "\n",
    "Want to solve...\n",
    "\n",
    "$$ \\max_{I_{NR}(t), F(t)} \\int_0^{\\infty} e^{-rt} \\Pi_{NR}(t) dt \\tag{4} $$\n",
    "\n",
    "...subject to the following constraint...\n",
    "\n",
    "$$ \\dot{K}_{NR}(t) = I_{NR}(t) - \\delta K_{NR}(t). \\tag{5} $$\n",
    "\n",
    "### Solution\n",
    "\n",
    "Start by setting up the current value Hamiltonian...\n",
    "\n",
    "$$ H(F(t), I(t), \\lambda(t)) \\equiv P_E \\psi K_{NR}(t)^{\\beta}F(t)^{1-\\beta} - P_F F(t) - P_K\\bigg(1 + \\frac{\\phi}{2}\\bigg(\\frac{I_{NR}(t)}{K_{NR}(t)} - \\delta\\bigg)^2\\bigg)I_{NR}(t) + \\lambda(t)\\big[I_{NR}(t) - \\delta K_{NR}(t)\\big] \\tag{6} $$ \n",
    "\n",
    "...first order conditions are...\n",
    "\n",
    "\\begin{align}\n",
    "    \\frac{\\partial H}{\\partial F} = 0 \\implies& P_E \\psi (1 - \\beta) K_{NR}(t)^{\\beta}F(t)^{-\\beta} = P_F \\tag{7} \\\\\n",
    "    \\frac{\\partial H}{\\partial I} = 0 \\implies& 1 + \\frac{\\phi}{2}\\bigg(\\frac{I_{NR}(t)}{K_{NR}(t)} - \\delta\\bigg)^2 + \\phi\\bigg(\\frac{I_{NR}(t)}{K_{NR}(t)} - \\delta\\bigg)\\frac{I_{NR}(t)}{K_{NR}(t)} = \\frac{\\lambda(t)}{P_K} \\tag{8} \\\\\n",
    "    \\frac{\\partial H}{\\partial K} = -\\bigg(\\dot{\\lambda}(t) - r\\lambda(t)\\bigg) \\implies& r\\lambda(t) - P_E \\psi \\beta K_{NR}(t)^{\\beta-1}F(t)^{1-\\beta} - P_K\\phi\\bigg(\\frac{I_{NR}(t)}{K_{NR}(t)} - \\delta\\bigg)\\bigg(\\frac{I_{NR}(t)}{K_{NR}(t)}\\bigg)^2 + \\delta\\lambda(t) = \\dot{\\lambda}(t) \\tag{9}\n",
    "\\end{align}\n",
    "\n",
    "...now solve equation 7 for $F(t)$ and equation 8 for $I_{NR}(t)$ and substitute both into equation 9...\n",
    "\n",
    "\\begin{align}\n",
    "    F(t) =& \\bigg(\\psi(1-\\beta)\\frac{P_E}{P_F}\\bigg)^{\\frac{1}{\\beta}}K_{NR}(t) \\tag{10} \\\\\n",
    "    \\frac{\\lambda(t)}{P_K} =& 1 + \\frac{\\phi}{2}\\bigg(\\frac{I_{NR}(t)}{K_{NR}(t)} - \\delta\\bigg)^2 + \\phi\\bigg(\\frac{I_{NR}(t)}{K_{NR}(t)} - \\delta\\bigg)\\frac{I_{NR}(t)}{K_{NR}(t)} \\\\\n",
    "    \\frac{\\lambda(t)}{P_K} =& 1 + \\frac{\\phi}{2}\\bigg(\\frac{I_{NR}(t)}{K_{NR}(t)} - \\delta\\bigg)^2 + \\phi\\bigg(\\frac{I_{NR}(t)}{K_{NR}(t)}\\bigg)^2 - \\delta\\phi\\bigg(\\frac{I_{NR}(t)}{K_{NR}(t)}\\bigg)\n",
    "\\end{align}\n"
   ]
  },
  {
   "cell_type": "code",
   "execution_count": 28,
   "metadata": {
    "collapsed": true
   },
   "outputs": [],
   "source": [
    "def investment_demand(t, K, q, delta, phi, r, **params):\n",
    "    \"\"\"Non-renewable energy sector investment in physical capital.\"\"\"\n",
    "    I = (((np.exp(r * t) * q - 1) / phi) - delta) * K\n",
    "    return I\n",
    "\n",
    "\n",
    "def fossil_fuel_demand(K, q, beta, energy_price, fossil_fuel_price, psi, **params):\n",
    "    \"\"\"Non-renewable energy sector demand for fossil fuels.\"\"\"\n",
    "    relative_price = energy_price / fossil_fuel_price\n",
    "    F = (psi * (1 - beta) * relative_price)**(1 / beta) * K\n",
    "    return F\n",
    "\n",
    "\n",
    "def K_dot(t, K, q, delta, **params):\n",
    "    \"\"\"Equation of motion for non-renewable sector physical capital.\"\"\"\n",
    "    I = investment_demand(t, K, q, delta, **params)\n",
    "    return I - delta * K\n",
    "\n",
    "\n",
    "def q_dot(t, K, q, delta, r, **params):\n",
    "    \"\"\"Equation of motion for Tobin's q.\"\"\"\n",
    "    I = investment_demand(t, K, q, delta, r=r, **params)\n",
    "    F = fossil_fuel_demand(K, q, **params)\n",
    "    return (q - delta) - np.exp(-r * t) * net_value_marginal_product_capital(F, I, K, delta, **params)\n",
    "    \n",
    "\n",
    "def net_value_marginal_product_capital(F, I, K, delta, **params):\n",
    "    nvmp = (value_marginal_product_capital(F, K, **params) - marginal_capital_adjustment_costs(I, K, delta, **params))\n",
    "    return nvmp\n",
    "\n",
    "\n",
    "def value_marginal_product_capital(F, K, energy_price, **params):\n",
    "    \"\"\"\n",
    "    Value marginal product (VMP) of capital is the marginal increase in revenue\n",
    "    generated by an additional unit of installed capital.\n",
    "    \n",
    "    \"\"\"\n",
    "    vmp = energy_price * marginal_product_capital(F, K, **params)\n",
    "    return vmp\n",
    "\n",
    "\n",
    "def marginal_product_capital(F, K, beta, **params):\n",
    "    \"\"\"Marginal product of physical capital.\"\"\"\n",
    "    return beta / capital_output_ratio(F, K, beta, **params)\n",
    "\n",
    "\n",
    "def capital_output_ratio(F, K, beta, **params):\n",
    "    return K / output(F, K, beta, **params)\n",
    "\n",
    "\n",
    "def output(F, K, beta, psi, **params):\n",
    "    \"\"\"Non-renewable energy sector output.\"\"\"\n",
    "    return psi * K**beta * F**(1 - beta)\n",
    "\n",
    "\n",
    "def marginal_capital_adjustment_costs(I, K, delta, phi, **params):\n",
    "    return capital_adjustment_costs(I, K, delta, phi, **params) - phi * ((I / K) - delta) * (I / K)\n",
    "\n",
    "\n",
    "def capital_adjustment_costs(I, K, delta, phi, **params):\n",
    "    \"\"\"Per unit costs of adjusting stock of physical capital.\"\"\"\n",
    "    return (phi / 2) * ((I / K) - delta)**2\n"
   ]
  },
  {
   "cell_type": "code",
   "execution_count": 17,
   "metadata": {
    "collapsed": true
   },
   "outputs": [],
   "source": [
    "def model(t, K, q, **params):\n",
    "    return [K_dot(t, K, q, **params), q_dot(t, K, q, **params)]\n",
    "\n",
    "\n",
    "def initial_condition(t, K, q, K0, **params):\n",
    "    return [K - K0]\n",
    "\n",
    "\n",
    "def terminal_condition(t, K, q):\n",
    "    \"\"\"In steady state\"\"\"\n",
    "    return [q]"
   ]
  },
  {
   "cell_type": "code",
   "execution_count": 18,
   "metadata": {
    "collapsed": true
   },
   "outputs": [],
   "source": [
    "non_renewable_params = {'beta': 0.67, 'psi': 1, 'r': 0.09, 'fossil_fuel_price': 1, 'phi': 0.2,\n",
    "                        'energy_price': 1.0, 'delta': 0.04, 'K0': 1.0}"
   ]
  },
  {
   "cell_type": "code",
   "execution_count": 29,
   "metadata": {
    "collapsed": false
   },
   "outputs": [
    {
     "data": {
      "text/plain": [
       "[-0.080000000000000002, 0.57191670213540013]"
      ]
     },
     "execution_count": 29,
     "metadata": {},
     "output_type": "execute_result"
    }
   ],
   "source": [
    "model(0.0, 1.0, 1.0, **non_renewable_params)"
   ]
  },
  {
   "cell_type": "code",
   "execution_count": 31,
   "metadata": {
    "collapsed": false
   },
   "outputs": [],
   "source": [
    "bvp = pycollocation.problems.TwoPointBVP(bcs_lower=initial_condition,\n",
    "                                         bcs_upper=terminal_condition,\n",
    "                                         number_bcs_lower=1,\n",
    "                                         number_odes=2,\n",
    "                                         params=non_renewable_params,\n",
    "                                         rhs=model,\n",
    "                                         )"
   ]
  },
  {
   "cell_type": "code",
   "execution_count": 32,
   "metadata": {
    "collapsed": true
   },
   "outputs": [],
   "source": [
    "def initial_mesh(t, T, num, problem):\n",
    "    # compute equilibrium values\n",
    "    cstar = equilibrium_consumption(**problem.params)\n",
    "    kstar = equilibrium_capital(**problem.params)\n",
    "    ystar = cobb_douglas_output(kstar, **problem.params)\n",
    "\n",
    "    # create the mesh for capital\n",
    "    ts = np.linspace(t, T, num)\n",
    "    k0 = problem.params['K0'] / (problem.params['A0'] * problem.params['N0'])\n",
    "    ks = kstar - (kstar - k0) * np.exp(-ts)\n",
    "\n",
    "    # create the mesh for consumption\n",
    "    s = 1 - (cstar / ystar)\n",
    "    y0 = cobb_douglas_output(k0, **problem.params)\n",
    "    c0 = (1 - s) * y0\n",
    "    cs = cstar - (cstar - c0) * np.exp(-ts)\n",
    "\n",
    "    return ts, ks, cs"
   ]
  },
  {
   "cell_type": "code",
   "execution_count": null,
   "metadata": {
    "collapsed": true
   },
   "outputs": [],
   "source": [
    "polynomial_basis = pycollocation.basis_functions.PolynomialBasis()\n",
    "solver = pycollocation.solvers.Solver(polynomial_basis)\n",
    "\n",
    "boundary_points = (0, 200)\n",
    "ts, ks, cs = initial_mesh(*boundary_points, num=1000, problem=standard_ramsey_bvp)\n",
    "\n",
    "basis_kwargs = {'kind': 'Chebyshev', 'domain': boundary_points, 'degree': 25}\n",
    "k_poly = polynomial_basis.fit(ts, ks, **basis_kwargs)\n",
    "c_poly = polynomial_basis.fit(ts, cs, **basis_kwargs)\n",
    "initial_coefs = np.hstack([k_poly.coef, c_poly.coef])\n",
    "nodes = polynomial_basis.roots(**basis_kwargs)\n",
    "\n",
    "solution = solver.solve(basis_kwargs, boundary_points, initial_coefs,\n",
    "                        nodes, standard_ramsey_bvp)"
   ]
  }
 ],
 "metadata": {
  "anaconda-cloud": {},
  "kernelspec": {
   "display_name": "Python [Root]",
   "language": "python",
   "name": "Python [Root]"
  },
  "language_info": {
   "codemirror_mode": {
    "name": "ipython",
    "version": 3
   },
   "file_extension": ".py",
   "mimetype": "text/x-python",
   "name": "python",
   "nbconvert_exporter": "python",
   "pygments_lexer": "ipython3",
   "version": "3.5.2"
  }
 },
 "nbformat": 4,
 "nbformat_minor": 0
}
