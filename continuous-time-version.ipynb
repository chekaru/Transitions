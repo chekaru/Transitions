{
 "cells": [
  {
   "cell_type": "code",
   "execution_count": 427,
   "metadata": {
    "collapsed": true
   },
   "outputs": [],
   "source": [
    "import numpy as np\n",
    "import matplotlib.pyplot as plt\n",
    "from scipy import optimize\n",
    "import seaborn as sn\n",
    "\n",
    "import pycollocation"
   ]
  },
  {
   "cell_type": "markdown",
   "metadata": {},
   "source": [
    "I based the following on lecture notes on [investment with adjustment costs](http://eml.berkeley.edu/~webfac/gourinchas/e202a_f14/Notes_Investment_pog.pdf) from UC Berkeley.\n",
    "\n",
    "## Non-renewable energy sector\n",
    "\n",
    "Sector combines capital, $K_{NR}$, and fossil fuels, $F$, to produce energy $E_{NR}$ via...\n",
    "\n",
    "$$ E\\big(F(t), K_{NR}(t)\\big). \\tag{1} $$\n",
    "\n",
    "\n",
    "### Profits\n",
    "\n",
    "Sector profits are...\n",
    "\n",
    "$$ \\Pi_{NR}(t) = p_E E\\big(F(t), K_{NR}(t)\\big) - p_F F(t) - p_K\\big(1 + C(I_{NR}, K_{NR})\\big)I_{NR}(t) \\tag{2} $$\n",
    "\n",
    "...where $p_E$, $p_F$, and $p_K$ are, respectively, the prices of energy, fossil fuels, and capital goods; finally, $C(I_{NR}(t), K_{NR}(t))$ represents the *percentage* increase in costs required to install one unit of capital.\n",
    "\n",
    "Note that this formulation implies that percentage adjustment costs are *convex* in the level of investment; since adjustment costs depend on the ratio of investment to installed capital, percentage adjustment costs scale up with the level of capital. \n",
    "\n",
    "### Objective\n",
    "\n",
    "Want to solve...\n",
    "\n",
    "$$ \\max_{I_{NR}(t), F(t)} \\int_0^{\\infty} e^{-rt} \\Pi_{NR}(t) dt \\tag{4} $$\n",
    "\n",
    "...subject to the following constraint...\n",
    "\n",
    "$$ \\dot{K}_{NR}(t) = I_{NR}(t) - \\delta K_{NR}(t). \\tag{5} $$\n",
    "\n",
    "### Solution\n",
    "\n",
    "Start by setting up the current value Hamiltonian...\n",
    "\n",
    "$$ H(F(t), I(t), \\lambda(t)) \\equiv p_E E\\big(F(t), K_{NR}(t)\\big) - p_F F(t) - p_K\\bigg(1 + C\\big(I_{NR}(t), K_{NR}(t)\\big)\\bigg)I_{NR}(t) + \\lambda(t)\\big[I_{NR}(t) - \\delta K_{NR}(t)\\big] \\tag{6} $$ \n",
    "\n",
    "...first-order optimality conditions are...\n",
    "\n",
    "\\begin{align}\n",
    "    \\frac{\\partial H}{\\partial F} = 0 \\implies& E_F\\big(F(t), K_{NR}(t)\\big) = \\frac{p_F}{p_E} \\tag{7} \\\\\n",
    "    \\frac{\\partial H}{\\partial I} = 0 \\implies& - p_K - p_K\\bigg[C\\big(I_{NR}(t), K_{NR}(t)\\big) + C_I\\big(I_{NR}(t), K_{NR}(t)\\big)I_{NR}(t)\\bigg] + \\lambda(t) = 0 \\\\\n",
    "    & 1 + C\\big(I_{NR}(t), K_{NR}(t)\\big) + C_I\\big(I_{NR}(t), K_{NR}(t)\\big)I_{NR}(t) = \\frac{\\lambda(t)}{p_K} \\tag{8} \\\\\n",
    "    \\frac{\\partial H}{\\partial K} = -\\big(\\dot{\\lambda}(t) - r\\lambda(t)\\big) \\implies& p_E E_K\\big(F(t), K_{NR}(t)\\big) - p_K C_K\\big(I_{NR}(t), K_{NR}(t)\\big)I_{NR}(t) - \\delta\\lambda(t) = -\\big(\\dot{\\lambda}(t) - r\\lambda(t)\\big) \\\\\n",
    "    &P_E E_K\\big(F(t), K_{NR}(t)\\big) - p_KC_K\\big(I_{NR}(t), K_{NR}(t)\\big)I_{NR}(t) - \\delta\\lambda(t) = -\\dot{\\lambda}(t) + r\\lambda(t) \\\\\n",
    "    &(r + \\delta)\\frac{\\lambda(t)}{p_K} + C_K\\big(I_{NR}(t), K_{NR}(t)\\big)I_{NR}(t) - \\frac{p_E}{p_K}E_K\\big(F(t), K_{NR}(t)\\big) = \\frac{\\dot{\\lambda}(t)}{p_K} \\tag{9}\n",
    "\\end{align}\n",
    "\n",
    "...assumptions on functions $E\\big(F(t), K_{NR}(t)\\big)$ and $C\\big(I(t), K_{NR}(t)\\big)$ are sufficient to guarantee that there exist functions $\\Phi$ and $\\Psi$ such that equations 7 and 8 can be written as...\n",
    "\n",
    "\\begin{align}\n",
    "    F(t) =& \\Phi\\big(K_{NR}(t); p_E, p_F\\big) \\tag{10} \\\\\n",
    "    I_{NR}(t) =& \\Psi\\bigg(\\frac{\\lambda(t)}{p_K}, K_{NR}(t)\\bigg) \\tag{11}\n",
    "\\end{align}\n",
    "\n",
    "... substituting equations 10 and 11 into equation 9 and then defining Tobin's *marginal* $q$ as follows...\n",
    "\n",
    "$$ q(t) = \\frac{\\lambda(t)}{P_K} \\implies \\dot{q}(t) = \\frac{\\dot{\\lambda}(t)}{P_K} \\tag{13}$$\n",
    "\n",
    "...yields a differential equation describing the evolution of $q$...\n",
    "\n",
    "$$ \\dot{q}(t) = (r + \\delta)q(t) + C_K\\bigg(\\Psi\\big(q(t), K_{NR}(t)\\big), K_{NR}(t)\\bigg)\\Psi\\big(q(t), K_{NR}(t)\\big) - \\frac{p_E}{p_K}E_K\\bigg(\\Phi\\big(K_{NR}(t); p_E, p_F\\big), K_{NR}(t)\\bigg). \\tag{14} $$\n",
    "\n",
    "Need a differential equation describing the evolution of capital stock: just use the constraint!\n",
    "\n",
    "\\begin{align}\n",
    "    \\dot{K}_{NR}(t) =& I_{NR}(t) - \\delta K_{NR}(t) \\\\\n",
    "    =& \\Psi\\big(q(t), K_{NR}(t)\\big) - \\delta K_{NR}(t) \\tag{15}\n",
    "\\end{align}\n",
    "\n",
    "Equations 14 and 15 describe a system of differential equations describing the evolution of $K_{NR}(t)$ and $q(t)$.  To complete the model we need to define boundary conditions. Capital stock is predetermined so we take the initial condition as given: $K_{NR}(0) = K_0$.  Tobin's $q$ is a jump variable whose value is pinned down in steady state."
   ]
  },
  {
   "cell_type": "code",
   "execution_count": 175,
   "metadata": {
    "collapsed": true
   },
   "outputs": [],
   "source": [
    "def output(F, K, A, alpha, beta, sigma=1, **params):\n",
    "    \"\"\"Non-renewable sector energy production.\"\"\"\n",
    "    rho = (sigma - 1) / sigma\n",
    "    if rho == 0:\n",
    "        energy = A * F**alpha * K**beta\n",
    "    else:\n",
    "        energy = (alpha * F**rho + beta * K**rho)**(1 / rho)\n",
    "    return energy\n",
    "\n",
    "\n",
    "def marginal_product_capital(F, K, A, alpha, beta, sigma=1, **params):\n",
    "    \"\"\"Increase in non-renewable sector energy production generated by an additional unit of physical capital.\"\"\"\n",
    "    rho = (sigma - 1) / sigma\n",
    "    if rho == 0:\n",
    "        marginal_product =  A * beta * F**alpha * K**(beta - 1)\n",
    "    else:\n",
    "        marginal_product = beta * K**(rho-1) * (alpha * F**rho + beta * K**rho)**((1 / rho) - 1)\n",
    "    return marginal_product\n",
    "\n",
    "\n",
    "def marginal_product_fossil_fuel(F, K, A, alpha, beta, sigma=1, **params):\n",
    "    \"\"\"Increase in non-renewable sector energy production generated by an additional unit of fossil fuel.\"\"\"\n",
    "    rho = (sigma - 1) / sigma\n",
    "    if rho == 0:\n",
    "        marginal_product = A * alpha * F**(alpha - 1) * K**beta\n",
    "    else:\n",
    "        marginal_product = alpha * F**(rho-1) * (alpha * F**rho + beta * K**rho)**((1 / rho) - 1)\n",
    "    return marginal_product\n",
    "    "
   ]
  },
  {
   "cell_type": "markdown",
   "metadata": {},
   "source": [
    "### Adjustment costs\n",
    "\n",
    "I use the following formulation of *percentage* adjustment costs...\n",
    "\n",
    "$$ C\\big(I_{NR}(t), K_{NR}(t)\\big)\\bigg) = \\frac{\\phi}{2}\\bigg(\\frac{I_{NR}(t)}{K_{NR}(t)}\\bigg)^2 \\tag{15} $$\n",
    "\n",
    "...note the following important features:\n",
    "\n",
    "1. Convex in the level of investment\n",
    "2. Homogenous of degree zero in investment and capital"
   ]
  },
  {
   "cell_type": "code",
   "execution_count": 151,
   "metadata": {
    "collapsed": true
   },
   "outputs": [],
   "source": [
    "def adjustment_cost(I, K, phi, **params):\n",
    "    \"\"\"Percentage costs of adjusting stock of physical capital.\"\"\"\n",
    "    return (phi / 2) * (I / K)**2\n",
    "\n",
    "\n",
    "def marginal_adjustment_cost_capital(I, K, phi, **params):\n",
    "    \"\"\"Adjustment cost of adding/removing an additional unit of capital.\"\"\"\n",
    "    return -phi * (I / K)**2 * (1 / K)\n",
    "\n",
    "\n",
    "def marginal_adjustment_cost_investment(I, K, phi, **params):\n",
    "    \"\"\"Adjustment cost of adding/removing an additional unit of investment.\"\"\"\n",
    "    return phi * (I / K) * (1 / K)\n"
   ]
  },
  {
   "cell_type": "code",
   "execution_count": 222,
   "metadata": {
    "collapsed": true
   },
   "outputs": [],
   "source": [
    "def investment_demand_schedule(q, K, phi, **params):\n",
    "    I = ((2 / 3) * (q - 1) * (1 / phi))**0.5 * K\n",
    "    return I\n",
    "\n",
    "\n",
    "def _first_order_condition_investment(I, q, K, phi, **params):\n",
    "    out = 1 + adjustment_cost(I, K, phi) + marginal_adjustment_cost_investment(I, K, phi) * I - q\n",
    "    return out"
   ]
  },
  {
   "cell_type": "code",
   "execution_count": 208,
   "metadata": {
    "collapsed": false
   },
   "outputs": [],
   "source": [
    "def fossil_fuel_demand_schedule(q, K, A, alpha, beta, energy_price, fossil_fuel_price, sigma=1.0, **params):\n",
    "    relative_price = energy_price / fossil_fuel_price\n",
    "    rho = (sigma - 1) / sigma\n",
    "    if rho == 0:\n",
    "        F = (A * alpha * relative_price * K**beta)**(1 / (1 - alpha))\n",
    "    else:\n",
    "        raise NotImplementedError\n",
    "    return F\n",
    "\n",
    "\n",
    "def _first_order_condition_fossil_fuel(F, q, K, A, alpha, beta, energy_price, fossil_fuel_price, sigma, **params):\n",
    "    relative_price = fossil_fuel_price / fossil_fuel_price\n",
    "    return marginal_product_fossil_fuel(F, K, A, alpha, beta, sigma) - relative_price"
   ]
  },
  {
   "cell_type": "code",
   "execution_count": 211,
   "metadata": {
    "collapsed": false
   },
   "outputs": [],
   "source": [
    "def equation_motion_q(t, q, K, capital_price, delta, energy_price, r, **params):\n",
    "    F = fossil_fuel_demand_schedule(q, K, energy_price=energy_price, **params)\n",
    "    I = investment_demand_schedule(q, K, **params)\n",
    "    relative_price = energy_price / capital_price\n",
    "    q_dot = ((r + delta) * q + marginal_adjustment_cost_capital(I, K, **params) * I -\n",
    "             relative_price * marginal_product_capital(F, K, **params))\n",
    "    return q_dot\n",
    "\n",
    "\n",
    "def equation_motion_capital(t, q, K, delta, **params):\n",
    "    I = investment_demand_schedule(q, K, **params)\n",
    "    K_dot = I - delta * K\n",
    "    return K_dot\n"
   ]
  },
  {
   "cell_type": "code",
   "execution_count": 215,
   "metadata": {
    "collapsed": true
   },
   "outputs": [],
   "source": [
    "def investment_adjustment_costs_model(t, q, K, **params):\n",
    "    rhs = [equation_motion_q(t, q, K, **params), \n",
    "           equation_motion_capital(t, q, K, **params)]\n",
    "    return rhs"
   ]
  },
  {
   "cell_type": "code",
   "execution_count": 426,
   "metadata": {
    "collapsed": false
   },
   "outputs": [],
   "source": [
    "def steady_state_q(delta, phi, **params):\n",
    "    \"\"\"Steady state value for tobins's q\"\"\"\n",
    "    return 1 + (3 / 2) * delta**2 * phi\n",
    "\n",
    "\n",
    "def steady_state_capital(**params):\n",
    "    \"\"\"Steady state capital is indeterminate with constant returns to scale.\"\"\"\n",
    "    q_ss = steady_state_q(**params)\n",
    "    F = lambda K: equation_motion_q(np.inf, q_ss, K, **params)\n",
    "    kss, full_results = optimize.brentq(F, 1e-15, 1e15, full_output=True, disp=True)\n",
    "    return kss if full_results.converged else full_results\n"
   ]
  },
  {
   "cell_type": "markdown",
   "metadata": {},
   "source": [
    "In what follows I use the following formulation for the adjustment costs function.\n",
    "\n",
    "$$ C(I_{NR}(t), K_{NR}(t)) = \\frac{\\phi}{2}\\bigg(\\frac{I_{NR}(t)}{K_{NR}(t)}\\bigg)^2 \\tag{3} $$"
   ]
  },
  {
   "cell_type": "code",
   "execution_count": 196,
   "metadata": {
    "collapsed": false
   },
   "outputs": [],
   "source": [
    "def initial_condition(t, q, K, K0, **params):\n",
    "    return [K - K0]\n",
    "\n",
    "\n",
    "def terminal_condition(t, q, K, **params):\n",
    "    \"\"\"In steady state\"\"\"\n",
    "    return [q - steady_state_q(**params)]"
   ]
  },
  {
   "cell_type": "code",
   "execution_count": 357,
   "metadata": {
    "collapsed": true
   },
   "outputs": [],
   "source": [
    "def initial_mesh(t, T, num, problem):\n",
    "    # compute equilibrium values\n",
    "    q_ss = steady_state_q(**problem.params)\n",
    "    capital_ss = steady_state_capital(**problem.params)\n",
    "    \n",
    "    # create the mesh for capital\n",
    "    ts = np.linspace(t, T, num)\n",
    "    K0 = problem.params['K0']\n",
    "    Ks = capital_ss - (capital_ss - K0) * np.exp(-ts)\n",
    "\n",
    "    # create the mesh for q\n",
    "    q0 = 0.5 * (1 + q_ss) if K0 > capital_ss else 2 * q_ss\n",
    "    qs = q_ss - (q_ss - q0) * np.exp(-ts)\n",
    "\n",
    "    return ts, qs, Ks"
   ]
  },
  {
   "cell_type": "code",
   "execution_count": 486,
   "metadata": {
    "collapsed": false
   },
   "outputs": [],
   "source": [
    "non_renewable_params = {'A': 1, 'K0': 1.0, 'alpha': 0.6, 'beta': 0.33, 'capital_price': 1.0, 'delta': 0.05,\n",
    "                        'energy_price': 1.0, 'fossil_fuel_price': 0.85, 'phi': 0.2, 'r': 0.09, 'sigma': 1.0 }\n",
    "\n",
    "bvp = pycollocation.problems.TwoPointBVP(bcs_lower=initial_condition,\n",
    "                                         bcs_upper=terminal_condition,\n",
    "                                         number_bcs_lower=1,\n",
    "                                         number_odes=2,\n",
    "                                         params=non_renewable_params,\n",
    "                                         rhs=investment_adjustment_costs_model,\n",
    "                                         )"
   ]
  },
  {
   "cell_type": "code",
   "execution_count": 487,
   "metadata": {
    "collapsed": false
   },
   "outputs": [],
   "source": [
    "polynomial_basis = pycollocation.basis_functions.PolynomialBasis()\n",
    "solver = pycollocation.solvers.Solver(polynomial_basis)\n",
    "\n",
    "boundary_points = (0, 100)\n",
    "ts, qs, Ks = initial_mesh(*boundary_points, num=1000, problem=bvp)\n",
    "\n",
    "basis_kwargs = {'kind': 'Chebyshev', 'domain': boundary_points, 'degree': 100}\n",
    "K_poly = polynomial_basis.fit(ts, Ks, **basis_kwargs)\n",
    "q_poly = polynomial_basis.fit(ts, qs, **basis_kwargs)\n",
    "initial_coefs = np.hstack([q_poly.coef, K_poly.coef])\n",
    "nodes = polynomial_basis.roots(**basis_kwargs)\n",
    "\n",
    "solution = solver.solve(basis_kwargs, boundary_points, initial_coefs, nodes, bvp)"
   ]
  },
  {
   "cell_type": "code",
   "execution_count": 488,
   "metadata": {
    "collapsed": false
   },
   "outputs": [
    {
     "data": {
      "text/plain": [
       "<matplotlib.legend.Legend at 0xce846017b8>"
      ]
     },
     "execution_count": 488,
     "metadata": {},
     "output_type": "execute_result"
    },
    {
     "data": {
      "image/png": "[encoded data removed]",
      "text/plain": [
       "<matplotlib.figure.Figure at 0xceff633ef0>"
      ]
     },
     "metadata": {},
     "output_type": "display_data"
    }
   ],
   "source": [
    "q_solution, capital_solution = solution.evaluate_solution(ts)\n",
    "\n",
    "plt.plot(ts, q_solution, label=r'$q$')\n",
    "plt.plot(ts, capital_solution, label=r'$K$')\n",
    "plt.xlabel(r'$t$', fontsize=25)\n",
    "plt.legend()"
   ]
  },
  {
   "cell_type": "code",
   "execution_count": 489,
   "metadata": {
    "collapsed": false
   },
   "outputs": [
    {
     "data": {
      "text/plain": [
       "<matplotlib.text.Text at 0xcefa95f898>"
      ]
     },
     "execution_count": 489,
     "metadata": {},
     "output_type": "execute_result"
    },
    {
     "data": {
      "image/png": "[encoded data removed]",
      "text/plain": [
       "<matplotlib.figure.Figure at 0xcefa2b32e8>"
      ]
     },
     "metadata": {},
     "output_type": "display_data"
    }
   ],
   "source": [
    "plt.plot(capital_solution, q_solution)\n",
    "plt.xlabel(r'$K$', fontsize=25)\n",
    "plt.ylabel(r'$q$', fontsize=25, rotation='horizontal')"
   ]
  },
  {
   "cell_type": "code",
   "execution_count": 490,
   "metadata": {
    "collapsed": false
   },
   "outputs": [],
   "source": [
    "q_resids, capital_resids = solution.normalize_residuals(ts)"
   ]
  },
  {
   "cell_type": "code",
   "execution_count": 491,
   "metadata": {
    "collapsed": false
   },
   "outputs": [
    {
     "data": {
      "text/plain": [
       "<matplotlib.legend.Legend at 0xcefc21d978>"
      ]
     },
     "execution_count": 491,
     "metadata": {},
     "output_type": "execute_result"
    },
    {
     "data": {
      "image/png": "[encoded data removed]",
      "text/plain": [
       "<matplotlib.figure.Figure at 0xcefa640eb8>"
      ]
     },
     "metadata": {},
     "output_type": "display_data"
    }
   ],
   "source": [
    "plt.plot(ts, np.abs(q_resids), label=r'$q$')\n",
    "plt.plot(ts, np.abs(capital_resids), label=r'$K$')\n",
    "plt.xlabel(r'$K$', fontsize=25)\n",
    "plt.ylim(1e-16, 1.0)\n",
    "plt.yscale('log')\n",
    "plt.title(\"Normalized residuals\", fontsize=25)\n",
    "plt.legend()"
   ]
  },
  {
   "cell_type": "code",
   "execution_count": 467,
   "metadata": {
    "collapsed": false
   },
   "outputs": [],
   "source": [
    "f = np.finfo('float')"
   ]
  },
  {
   "cell_type": "code",
   "execution_count": 468,
   "metadata": {
    "collapsed": false
   },
   "outputs": [
    {
     "data": {
      "text/plain": [
       "2.2204460492503131e-16"
      ]
     },
     "execution_count": 468,
     "metadata": {},
     "output_type": "execute_result"
    }
   ],
   "source": [
    "f.eps"
   ]
  },
  {
   "cell_type": "code",
   "execution_count": 464,
   "metadata": {
    "collapsed": true
   },
   "outputs": [],
   "source": [
    "f.machep?"
   ]
  },
  {
   "cell_type": "code",
   "execution_count": null,
   "metadata": {
    "collapsed": true
   },
   "outputs": [],
   "source": []
  }
 ],
 "metadata": {
  "anaconda-cloud": {},
  "kernelspec": {
   "display_name": "Python [Root]",
   "language": "python",
   "name": "Python [Root]"
  },
  "language_info": {
   "codemirror_mode": {
    "name": "ipython",
    "version": 3
   },
   "file_extension": ".py",
   "mimetype": "text/x-python",
   "name": "python",
   "nbconvert_exporter": "python",
   "pygments_lexer": "ipython3",
   "version": "3.5.2"
  }
 },
 "nbformat": 4,
 "nbformat_minor": 0
}
