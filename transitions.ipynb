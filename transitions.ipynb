{
 "cells": [
  {
   "cell_type": "code",
   "execution_count": 1,
   "metadata": {
    "collapsed": false
   },
   "outputs": [],
   "source": [
    "%load_ext autoreload\n",
    "%autoreload 2"
   ]
  },
  {
   "cell_type": "code",
   "execution_count": 2,
   "metadata": {
    "collapsed": true
   },
   "outputs": [],
   "source": [
    "%matplotlib inline"
   ]
  },
  {
   "cell_type": "code",
   "execution_count": 3,
   "metadata": {
    "collapsed": false
   },
   "outputs": [],
   "source": [
    "import matplotlib.pyplot as plt\n",
    "import numpy as np\n",
    "from scipy import optimize\n",
    "\n",
    "import pycollocation\n",
    "\n",
    "from energy_consumers import EnergyConsumer\n",
    "from energy_markets import EnergyMarket\n",
    "from energy_sectors import RenewableEnergySector, NonRenewableEnergySector"
   ]
  },
  {
   "cell_type": "markdown",
   "metadata": {},
   "source": [
    "## Renewable Energy Sector\n",
    "\n",
    "### Output\n",
    "\n",
    "Assume that renewable energy sector takes capital and produces energy via some *decreasing returns to scale* production technology...\n",
    "\n",
    "$$ E_R(t) = A_R K_R(t)^{\\alpha_R} $$\n",
    "\n",
    "...where $A_R > 0$ denotes technology (or total factor productivity) and $0 < \\alpha_R < 1$ denotes the percentage change in renewable sector energy output from a 1% change in capital stock.\n",
    "\n",
    "### Profits\n",
    "\n",
    "Renewable energy sector profits at time $t$ are...\n",
    "\n",
    "$$ \\Pi_R(t) = S_R\\big(p_E(t)\\big) A_R K_R(t)^{\\alpha_R} - p_K(t) I_R(t) $$\n",
    "\n",
    "...where $S(p_E)$ denotes the subsidized price of energy and $p_K$ is the price of capital goods. Assume that representative firm in the renewable energy sector chooses the level of investment, $I_R(t)$, in order to maximize discounted lifetime profits...\n",
    "\n",
    "$$ V\\big(K_R(t)\\big) = \\max_{I_R(t)} \\int_t^{\\infty} e^{-r s}\\bigg[S_R\\big(p_E(s)\\big) A_R K_R(s)^{\\alpha_R} - p_K(s) I_R(s)\\bigg] ds$$\n",
    "\n",
    "...subject to the following constraint...\n",
    "\n",
    "$$ \\dot{K}_R(t) = I_R(t) - \\delta_R K_R(t). $$\n",
    "\n",
    "### Solution to profit maximization problem\n",
    "\n",
    "To solve the above profit maximization problem, setup the *current value* Hamiltonian...\n",
    "\n",
    "$$ H_R(t) = [S_R\\big(p_E(t)\\big) A_R K_R(t)^{\\alpha_R} - p_K(t) I_R(t) + \\lambda_R(t)\\big[I_R(t) - \\delta_R K_R(t)\\big] $$\n",
    "\n",
    "...first-order  optimality conditions are...\n",
    "\n",
    "\\begin{align}\n",
    "    \\frac{\\partial H_R(t)}{\\partial I_R(t)} = 0 \\implies& -p_K(t) + \\lambda_R(t) = 0 \\\\\n",
    "    \\frac{\\partial H_R(t)}{\\partial K_R(t)} = -\\big[\\dot{\\lambda}_R(t) - r \\lambda_R(t)\\big] \\implies& S_R\\big(p_E(t)\\big) A_R \\alpha_R K_R(t)^{\\alpha_R - 1} - \\delta_R \\lambda_R(t) = -\\big[\\dot{\\lambda}_R(t) - r \\lambda_R(t)\\big] \\\\\n",
    "\\end{align}\n",
    "\n",
    "#### Capital stock\n",
    "Combining the above first-order conditions yields an equation for the stock of capital...\n",
    "\n",
    "$$ K_R(t) = \\bigg(\\frac{S_R\\big(p_E(t)\\big)}{p_K(t)}\\frac{A_R \\alpha_R}{r + \\delta_R - \\frac{\\dot{p}_K(t)}{p_K(t)}}\\bigg)^{\\frac{1}{1-\\alpha_R}} $$\n",
    "\n",
    "...note that this expression is decreasing in the price of capital, $p_K(t)$, the interest rate, $r$, and increasing in the subsidized energy price, $S_R\\big(p_E(t)\\big)$ and capital gains rate, $\\frac{\\dot{p}_K(t)}{p_K(t)}$.  In what follows we are assuming that the price of capital is *exogenous* and fixed (and therefore, we don't need to worry about capital gains!)...  \n",
    "\n",
    "$$ K_R(t) = \\bigg(\\frac{S_R\\big(p_E(t)\\big)}{p_K}\\frac{A_R \\alpha_R}{r + \\delta_R}\\bigg)^{\\frac{1}{1-\\alpha_R}}. $$\n",
    "\n",
    "#### Investment\n",
    "How to determine the level of investment? Differentiate the equation for the stock of capital with respect to time, $t$...\n",
    "\n",
    "$$ \\dot{K}_R(t) = \\frac{1}{1-\\alpha_R}\\bigg(\\frac{S_R\\big(p_E(t)\\big)}{p_K}\\frac{A_R \\alpha_R}{r + \\delta_R}\\bigg)^{\\frac{1}{1-\\alpha_R}}\\frac{\\dot{S}_R\\big(p_E(t)\\big)}{S_R\\big(p_E(t)\\big)} = \\frac{1}{1-\\alpha_R}\\frac{\\dot{S}_R\\big(p_E(t)\\big)}{S_R\\big(p_E(t)\\big)} K_R(t)$$\n",
    "\n",
    "...next, from the equation of motion for capital stock we have that...\n",
    "\n",
    "$$ \\frac{1}{1-\\alpha_R}\\frac{\\dot{S}_R\\big(p_E(t)\\big)}{S_R\\big(p_E(t)\\big)} K_R(t) = I_R(t) - \\delta_R K_R(t) $$\n",
    "\n",
    "...which implies that the level of investment is proportional to capital stock...\n",
    "\n",
    "$$ I_R(t) = \\bigg(\\frac{1}{1-\\alpha_R}\\frac{\\dot{S}_R\\big(p_E(t)\\big)}{S_R\\big(p_E(t)\\big)} + \\delta_R\\bigg)K_R(t) $$\n",
    "\n",
    "\n",
    "#### Renewable energy output\n",
    "\n",
    "Substitute optimal capital demand back into the production function...\n",
    "\n",
    "\\begin{align}\n",
    "    E_R(t) =& A_R K_R(t)^{\\alpha_R} \\\\\n",
    "    =& A_R^{\\frac{1}{1-\\alpha_R}}\\bigg(\\frac{S_R\\big(p_E(t)\\big)}{p_K}\\frac{\\alpha_R}{r + \\delta_R}\\bigg)^{\\frac{\\alpha_R}{1-\\alpha_R}}\n",
    "\\end{align}"
   ]
  },
  {
   "cell_type": "code",
   "execution_count": 131,
   "metadata": {
    "collapsed": false
   },
   "outputs": [],
   "source": [
    "renewable_sector_params = {'alpha': 0.3, 'delta': 0.05, 'tfp': 3.692, 'mu': -0.5}\n",
    "renewable_sector = RenewableEnergySector(**renewable_sector_params)"
   ]
  },
  {
   "cell_type": "markdown",
   "metadata": {},
   "source": [
    "I based the following on lecture notes on [investment with adjustment costs](http://eml.berkeley.edu/~webfac/gourinchas/e202a_f14/Notes_Investment_pog.pdf) from UC Berkeley.\n",
    "\n",
    "## Non-renewable energy sector\n",
    "\n",
    "Sector combines capital, $K_{NR}$, and fossil fuels, $F$, to produce energy $E_{NR}$ via...\n",
    "\n",
    "$$ E_{NR}\\big(F(t), K_{NR}(t)\\big) = \\bigg[\\alpha K_{NR}(t)^{\\rho} + \\beta F(t)^{\\rho}\\bigg]^{\\frac{\\gamma}{\\rho}} \\tag{1} $$\n",
    "\n",
    "...the above production function is a generalization of the constant elasticity of substitution (CES) family. Returns to scale are controled by the parameter $\\gamma$ (i.e., $\\gamma=1$ implies CRTS). Also note that this production function nests the standard Cobb-Douglas production function as a special (limiting!) case where $\\gamma = \\alpha + \\beta, \\rho=0$.\n",
    "\n",
    "### Profits\n",
    "\n",
    "Sector profits are...\n",
    "\n",
    "$$ \\Pi_{NR}(t) = p_E E_{NR}\\big(F(t), K_{NR}(t)\\big) - p_F F(t) - p_K\\big(1 + C(I_{NR}, K_{NR})\\big)I_{NR}(t) \\tag{2} $$\n",
    "\n",
    "...where $p_E$, $p_F$, and $p_K$ are, respectively, the prices of energy, fossil fuels, and capital goods; finally, $C(I_{NR}(t), K_{NR}(t))$ represents the *percentage* increase in costs required to install one unit of capital.  For sure we want to assume that $C_I > 0$ amd $C_{II} > 0$ (i.e., that adjustment costs are *convex* in the level of investment).  \n",
    "\n",
    "Firm in the non-renewable energy sector solves...\n",
    "\n",
    "$$ \\max_{I_{NR}(t), F(t)} \\int_t^{\\infty} e^{-rs} \\Pi_{NR}(s) ds \\tag{4} $$\n",
    "\n",
    "...subject to the following constraint...\n",
    "\n",
    "$$ \\dot{K}_{NR}(t) = I_{NR}(t) - \\delta K_{NR}(t). \\tag{5} $$\n",
    "\n",
    "### Solution\n",
    "\n",
    "Start by setting up the current value Hamiltonian...\n",
    "\n",
    "$$ H(F(t), I(t), \\lambda(t)) \\equiv p_E(t) E\\big(F(t), K_{NR}(t)\\big) - p_F F(t) - p_K\\bigg(1 + C\\big(I_{NR}(t), K_{NR}(t)\\big)\\bigg)I_{NR}(t) + \\lambda(t)\\big[I_{NR}(t) - \\delta K_{NR}(t)\\big] \\tag{6} $$ \n",
    "\n",
    "...first-order optimality conditions are...\n",
    "\n",
    "\\begin{align}\n",
    "    \\frac{\\partial H}{\\partial F} = 0 \\implies& E_F\\big(F(t), K_{NR}(t)\\big) = \\frac{p_F}{p_E(t)} \\tag{7} \\\\\n",
    "    \\frac{\\partial H}{\\partial I} = 0 \\implies& - p_K - p_K\\bigg[C\\big(I_{NR}(t), K_{NR}(t)\\big) + C_I\\big(I_{NR}(t), K_{NR}(t)\\big)I_{NR}(t)\\bigg] + \\lambda(t) = 0 \\\\\n",
    "    & 1 + C\\big(I_{NR}(t), K_{NR}(t)\\big) + C_I\\big(I_{NR}(t), K_{NR}(t)\\big)I_{NR}(t) = \\frac{\\lambda(t)}{p_K} \\tag{8} \\\\\n",
    "    \\frac{\\partial H}{\\partial K} = -\\big(\\dot{\\lambda}(t) - r\\lambda(t)\\big) \\implies& p_E(t) E_K\\big(F(t), K_{NR}(t)\\big) - p_K C_K\\big(I_{NR}(t), K_{NR}(t)\\big)I_{NR}(t) - \\delta\\lambda(t) = -\\big(\\dot{\\lambda}(t) - r\\lambda(t)\\big) \\\\\n",
    "    &p_E(t) E_K\\big(F(t), K_{NR}(t)\\big) - p_KC_K\\big(I_{NR}(t), K_{NR}(t)\\big)I_{NR}(t) - \\delta\\lambda(t) = -\\dot{\\lambda}(t) + r\\lambda(t) \\\\\n",
    "    &(r + \\delta)\\frac{\\lambda(t)}{p_K} + C_K\\big(I_{NR}(t), K_{NR}(t)\\big)I_{NR}(t) - \\frac{p_E(t)}{p_K}E_K\\big(F(t), K_{NR}(t)\\big) = \\frac{\\dot{\\lambda}(t)}{p_K} \\tag{9}\n",
    "\\end{align}\n",
    "\n",
    "...assumptions on functions $E\\big(F(t), K_{NR}(t)\\big)$ and $C\\big(I(t), K_{NR}(t)\\big)$ are sufficient to guarantee that there exist functions $\\Phi$ and $\\Psi$ such that equations 7 and 8 can be written as...\n",
    "\n",
    "\\begin{align}\n",
    "    F(t) =& \\Phi\\big(K_{NR}(t), p_E(t)\\big) \\tag{10} \\\\\n",
    "    I_{NR}(t) =& \\Psi\\bigg(\\frac{\\lambda(t)}{p_K}, K_{NR}(t)\\bigg) \\tag{11}\n",
    "\\end{align}\n",
    "\n",
    "... substituting equations 10 and 11 into equation 9 and then defining Tobin's *marginal* $q$ as follows...\n",
    "\n",
    "$$ q(t) = \\frac{\\lambda(t)}{p_K} \\implies \\dot{q}(t) = \\frac{\\dot{\\lambda}(t)}{p_K} \\tag{13}$$\n",
    "\n",
    "...yields a differential equation describing the evolution of $q$...\n",
    "\n",
    "$$ \\dot{q}(t) = (r + \\delta)q(t) + C_K\\bigg(\\Psi\\big(q(t), K_{NR}(t)\\big), K_{NR}(t)\\bigg)\\Psi\\big(q(t), K_{NR}(t)\\big) - \\frac{p_E}{p_K}E_K\\bigg(\\Phi\\big(K_{NR}(t), p_E(t)\\big), K_{NR}(t)\\bigg). \\tag{14} $$\n",
    "\n",
    "Need a differential equation describing the evolution of capital stock: just use the constraint!\n",
    "\n",
    "\\begin{align}\n",
    "    \\dot{K}_{NR}(t) =& I_{NR}(t) - \\delta K_{NR}(t) \\\\\n",
    "    =& \\Psi\\big(q(t), K_{NR}(t)\\big) - \\delta K_{NR}(t) \\tag{15}\n",
    "\\end{align}\n",
    "\n",
    "Equations 14 and 15 describe a system of differential equations describing the evolution of $K_{NR}(t)$ and $q(t)$.  To complete the model we need to define boundary conditions. Capital stock is predetermined so we take the initial condition as given: $K_{NR}(0) = K_0$.  Tobin's $q$ is a jump variable whose value is pinned down in steady state. Note the dependence on the wholesale price of energy $p_E(t)$.  To solve the model, we need to determine this price!"
   ]
  },
  {
   "cell_type": "code",
   "execution_count": 132,
   "metadata": {
    "collapsed": false
   },
   "outputs": [],
   "source": [
    "non_renewable_sector_params = {'tfp': 1.0, 'alpha': 0.7, 'beta': 0.3, 'delta': 0.025,\n",
    "                        'phi': 0.2, 'gamma': 1, 'sigma': 1}\n",
    "non_renewable_sector = NonRenewableEnergySector(**non_renewable_sector_params)"
   ]
  },
  {
   "cell_type": "code",
   "execution_count": 133,
   "metadata": {
    "collapsed": true
   },
   "outputs": [],
   "source": [
    "consumer = EnergyConsumer(100)"
   ]
  },
  {
   "cell_type": "markdown",
   "metadata": {},
   "source": [
    "## Wholesale price for energy\n",
    "Key endogenous variable in the model is the wholesale market price for energy, $p_E(t)$. Start by writing down the excess demand function for energy...\n",
    "\n",
    "$$ XD\\big(p_E(t)\\big) \\equiv AD\\big(p_E(t)\\big) - AS\\big(p_E(t)\\big) $$\n",
    "\n",
    "...now the aggregate supply of energy is just the combined energy output from the non-renewable and renewable energy sectors...\n",
    "\n",
    "$$ XD\\big(p_E(t); K_{NR}(t)\\big) \\equiv AD\\big(p_E(t)\\big) - \\Bigg[E_{NR}\\bigg(K_{NR}(t), \\Phi\\big(K_{NR}(t), p_E(t)\\big)\\bigg) + A_R^{\\frac{1}{1-\\alpha_R}}\\bigg(\\frac{S_R\\big(p_E(t)\\big)}{p_K}\\frac{\\alpha_R}{r + \\delta_R}\\bigg)^{\\frac{\\alpha_R}{1-\\alpha_R}}\\Bigg] $$\n",
    "\n",
    "### Example: Fixed energy demand and Cobb-Douglas non-renewable energy production\n",
    "\n",
    "Assume constant aggregate demand for energy from wholesalers...\n",
    "\n",
    "$$ AD\\big(p_E(t)\\big) = \\bar{D} $$\n",
    "\n",
    "...aggregate supply is just the sum of energy produced in both non-renewable and renewable sectors...\n",
    "\n",
    "$$ AS\\big(p_E(t)\\big) = A_{NR}^{\\frac{1}{\\alpha_{NR}}} \\bigg((1 - \n",
    "\\alpha_{NR}) \\frac{p_E(t)}{p_F}\\bigg)^{\\frac{1-\\alpha_{NR}}{\\alpha_{NR}}} K_{NR}(t) + A_R^{\\frac{1}{1-\\alpha_R}}\\bigg(\\frac{S_R\\big(p_E(t)\\big)}{p_K}\\frac{\\alpha_R}{r + \\delta_R}\\bigg)^{\\frac{\\alpha_R}{1-\\alpha_R}} $$\n",
    "\n",
    "...define excess demand function as follows...\n",
    "\n",
    "\\begin{align}\n",
    "    XD\\big(p_E(t)\\big) \\equiv& AD\\big(p_E(t)\\big) - AS\\big(p_E(t)\\big) \\\\\n",
    "    =& \\bar{D} - A_{NR}^{\\frac{1}{\\alpha_{NR}}} \\bigg((1 - \\alpha_{NR}) \\frac{p_E(t)}{p_F}\\bigg)^{\\frac{1-\\alpha_{NR}}{\\alpha_{NR}}} K_{NR}(t) - A_R^{\\frac{1}{1-\\alpha_R}}\\bigg(\\frac{S_R\\big(p_E(t)\\big)}{p_K}\\frac{\\alpha_R}{r + \\delta_R}\\bigg)^{\\frac{\\alpha_R}{1-\\alpha_R}}\n",
    "\\end{align}\n",
    "\n",
    "...the market price for energy is the price that solves $XD\\big(p_E(t)\\big) = 0$.\n",
    "\n",
    "Suppose that $\\alpha_R = 1 - \\alpha_{NR} = \\alpha$ and that $S_R\\big(p_E(t)\\big) = (1 + \\mu_R)p_E(t)$...\n",
    "\n",
    "\\begin{align}\n",
    "    XD\\big(p_E(t)\\big) =& \\bar{D} - A_{NR}^{\\frac{1}{1 - \\alpha}} \\bigg(\\alpha \\frac{p_E(t)}{p_F}\\bigg)^{\\frac{\\alpha}{1 - \\alpha}} K_{NR}(t) - A_R^{\\frac{1}{1-\\alpha}}\\bigg((1 + \\mu_R)\\frac{p_E(t)}{p_K}\\frac{\\alpha}{r + \\delta_R}\\bigg)^{\\frac{\\alpha}{1-\\alpha}} \\\\\n",
    "    =& \\bar{D} - \\bigg[A_{NR}^{\\frac{1}{1 - \\alpha}} \\bigg(\\frac{1}{p_F}\\bigg)^{\\frac{\\alpha}{1 - \\alpha}} K_{NR}(t) + A_R^{\\frac{1}{1-\\alpha}}\\bigg(\\frac{1 + \\mu_R}{p_K}\\frac{1}{r + \\delta_R}\\bigg)^{\\frac{\\alpha}{1-\\alpha}}\\bigg]\\big(\\alpha p_E(t)\\big)^{\\frac{\\alpha}{1-\\alpha}}\n",
    "\\end{align}\n",
    "\n",
    "...setting excess demand equal to zero, we can derive a closed form expression for the market price...\n",
    "\n",
    "$$ p_E(t) = \\frac{1}{\\alpha}\\left[\\frac{\\bar{D}}{A_{NR}^{\\frac{1}{1 - \\alpha}} \\bigg(\\frac{1}{p_F}\\bigg)^{\\frac{\\alpha}{1 - \\alpha}} K_{NR}(t) + A_R^{\\frac{1}{1-\\alpha}}\\bigg(\\frac{1 + \\mu_R}{p_K}\\frac{1}{r + \\delta_R}\\bigg)^{\\frac{\\alpha}{1-\\alpha}}}\\right]^{\\frac{1 - \\alpha}{\\alpha}} $$\n",
    "\n",
    "...note the the wholesale market price of energy is a *decreasing* function of non-renewable sector capital stock: this means that as the non-renewable sector energy production declines, the wholesale market price of energy will rise!"
   ]
  },
  {
   "cell_type": "code",
   "execution_count": 134,
   "metadata": {
    "collapsed": true
   },
   "outputs": [],
   "source": [
    "def _energy_market_price(K, A_NR, A_R, alpha, p_K, p_F, r, delta_R, quantity_demand, mu_R):\n",
    "    denominator = A_NR**(1 / (1 - alpha)) * (1 / p_F)**(alpha / (1 - alpha)) * K + A_R**(1 / (1 - alpha)) * (((1 + mu_R) / p_K) * (1 / (r + delta_R)))**(alpha / (1 - alpha))\n",
    "    price = (1 / alpha) * (quantity_demand / denominator)**((1 - alpha) / alpha)\n",
    "    return price"
   ]
  },
  {
   "cell_type": "code",
   "execution_count": 135,
   "metadata": {
    "collapsed": true
   },
   "outputs": [],
   "source": [
    "market = EnergyMarket(consumer, non_renewable_sector, renewable_sector)"
   ]
  },
  {
   "cell_type": "code",
   "execution_count": 140,
   "metadata": {
    "collapsed": false
   },
   "outputs": [
    {
     "data": {
      "text/plain": [
       "1.384169409353507"
      ]
     },
     "execution_count": 140,
     "metadata": {},
     "output_type": "execute_result"
    }
   ],
   "source": [
    "capital_price, fossil_fuel_price, interest_rate = 1.0, 0.5, 0.09\n",
    "price = _energy_market_price(100, 1, 3.692, 0.3, capital_price, fossil_fuel_price, interest_rate, 0.05, 100, -0.5)\n",
    "price"
   ]
  },
  {
   "cell_type": "code",
   "execution_count": 141,
   "metadata": {
    "collapsed": false
   },
   "outputs": [
    {
     "data": {
      "text/plain": [
       "2.842170943040401e-14"
      ]
     },
     "execution_count": 141,
     "metadata": {},
     "output_type": "execute_result"
    }
   ],
   "source": [
    "market._excess_demand(price, 100, capital_price, fossil_fuel_price, interest_rate)"
   ]
  },
  {
   "cell_type": "code",
   "execution_count": 142,
   "metadata": {
    "collapsed": false
   },
   "outputs": [],
   "source": [
    "from scipy import integrate\n",
    "\n",
    "\n",
    "class TransitionDynamicsModel:\n",
    "    \n",
    "    def __init__(self, p0, energy_market, capital_price, fossil_fuel_price, interest_rate):\n",
    "        self._energy_market = energy_market\n",
    "        \n",
    "        self._capital_price = capital_price\n",
    "        self._fossil_fuel_price = fossil_fuel_price\n",
    "        self._interest_rate = interest_rate\n",
    "        \n",
    "    @property\n",
    "    def equilibrium(self):\n",
    "        \"\"\"Equilibrium value for capital.\"\"\"\n",
    "        equilibrium_q = self._energy_market.non_renewable_sector.equilibrium_q\n",
    "        equilibrium_capital = self.q_dot_locus(equilibrium_q)\n",
    "        return np.array([equilibrium_q, equilibrium_capital])\n",
    "        \n",
    "    def plot_sector_costs(self, ts, qs, Ks, deg=35):\n",
    "    \n",
    "        # interpolate the energy price function...\n",
    "        ps = np.array([self._compute_energy_price(K) for K in Ks])\n",
    "        p_hat = np.polynomial.Chebyshev.fit(ts, ps, deg)\n",
    "        grs = p_hat.deriv()(ts) / p_hat(ts)\n",
    "\n",
    "        # compute the sector profits\n",
    "        costs_NR = []\n",
    "        costs_R = []\n",
    "        for q, K, p, gr in zip(qs, Ks, ps, grs):\n",
    "            costs_NR.append(self._compute_non_renewable_sector_costs(q, K, p))\n",
    "            costs_R.append(self._compute_renewable_sector_costs(p, gr))\n",
    "\n",
    "        fig, axes = plt.subplots(1, 2)\n",
    "        \n",
    "        axes[0].plot(ts, np.array(costs_NR), label=r\"$C_{NR}(t)$\")\n",
    "        axes[0].legend(frameon=False)\n",
    "        \n",
    "        axes[1].plot(ts, np.array(costs_R), label=r\"$C_{R}(t)$\")\n",
    "        axes[1].legend(frameon=False)\n",
    "        \n",
    "        fig.suptitle(\"Costs\", fontsize=25, y=1.05, family='serif')\n",
    "        fig.tight_layout()\n",
    "        \n",
    "        return fig\n",
    "    \n",
    "    def plot_sector_profits(self, ts, qs, Ks, deg=35):\n",
    "    \n",
    "        # interpolate the energy price function...\n",
    "        ps = np.array([self._compute_energy_price(K) for K in Ks])\n",
    "        p_hat = np.polynomial.Chebyshev.fit(ts, ps, deg)\n",
    "        grs = p_hat.deriv()(ts) / p_hat(ts)\n",
    "\n",
    "        # compute the sector profits\n",
    "        profits_NR = []\n",
    "        profits_R = []\n",
    "        for q, K, p, gr in zip(qs, Ks, ps, grs):\n",
    "            profits_NR.append(self._compute_non_renewable_sector_profits(q, K, p))\n",
    "            profits_R.append(self._compute_renewable_sector_profits(p, gr))\n",
    "\n",
    "        fig, axes = plt.subplots(1, 2)\n",
    "        \n",
    "        axes[0].plot(ts, np.array(profits_NR), label=r\"$\\Pi_{NR}(t)$\")\n",
    "        axes[0].legend(frameon=False)\n",
    "        \n",
    "        axes[1].plot(ts, np.array(profits_R), label=r\"$\\Pi_{R}(t)$\")\n",
    "        axes[1].legend(frameon=False)\n",
    "        \n",
    "        fig.suptitle(\"Profits\", fontsize=25, y=1.05, family='serif')\n",
    "        fig.tight_layout()\n",
    "        \n",
    "        return fig\n",
    "    \n",
    "    def plot_energy_price(self, ts, Ks):\n",
    "    \n",
    "        # compute energy prices\n",
    "        energy_prices = ps = np.array([self._compute_energy_price(K) for K in Ks])\n",
    "\n",
    "        fig, ax = plt.subplots(1, 1)\n",
    "        \n",
    "        ax.plot(ts, energy_prices, label=r\"$p_E(t)$\")\n",
    "        ax.legend(frameon=False)\n",
    "        \n",
    "        ax.set_title(\"Energy Price\", fontsize=25, family='serif')\n",
    "        \n",
    "        return fig\n",
    "    \n",
    "    def plot_sector_energy_output(self, ts, qs, Ks):\n",
    "    \n",
    "        # compute energy prices\n",
    "        ps = np.array([self._compute_energy_price(K) for K in Ks])\n",
    "\n",
    "        # compute the sector output\n",
    "        output_NR = []\n",
    "        output_R = []\n",
    "        for K, p in zip(Ks, ps):\n",
    "            output_NR.append(self._compute_non_renewable_sector_output(K, p))\n",
    "            output_R.append(self._compute_renewable_sector_output(p))\n",
    "\n",
    "        fig, axes = plt.subplots(1, 2)\n",
    "        \n",
    "        axes[0].plot(ts, np.array(output_NR) / self._energy_market.consumer.demand(ps), label=r\"$E_{NR}(t)$\")\n",
    "        axes[0].set_ylim(0, 1)\n",
    "        axes[0].legend(frameon=False)\n",
    "        \n",
    "        axes[1].plot(ts, np.array(output_R) / self._energy_market.consumer.demand(ps), label=r\"$E_{R}(t)$\")\n",
    "        axes[1].set_ylim(0, 1)\n",
    "        axes[1].legend(frameon=False)\n",
    "        \n",
    "        fig.suptitle(\"Energy output\", fontsize=25, y=1.05, family='serif')\n",
    "        fig.tight_layout()\n",
    "        \n",
    "        return fig\n",
    "        \n",
    "    def q_dot_locus(self, q):\n",
    "        min_capital, max_capital = 1e-12, 1e7  # if max capital is too large, then this might fail!\n",
    "        locus = lambda capital: self._q_dot(q, capital, self._compute_energy_price(capital))\n",
    "        equilibrium_capital = optimize.brentq(locus, min_capital, max_capital)\n",
    "        return equilibrium_capital\n",
    "        \n",
    "    def solve(self, t0, T, num, initial_capital):\n",
    "        self._initial_energy_price = model._compute_energy_price(self.equilibrium[1])\n",
    "        return self._solve_reverse_shooting(t0, T, num, initial_capital)\n",
    "    \n",
    "    def _compute_non_renewable_sector_costs(self, q, capital, energy_price):\n",
    "        prices = (self._capital_price, energy_price, self._fossil_fuel_price)\n",
    "        return self._energy_market.non_renewable_sector.costs(q, capital, *prices)\n",
    "    \n",
    "    def _compute_renewable_sector_costs(self, energy_price, energy_price_growth):\n",
    "        prices = (self._capital_price, energy_price, energy_price_growth, self._interest_rate)\n",
    "        return self._energy_market.renewable_sector.costs(*prices)\n",
    "    \n",
    "    def _compute_energy_price(self, capital):\n",
    "        \"\"\"Can this be vectorized?\"\"\"\n",
    "        prices = (self._capital_price, self._fossil_fuel_price, self._interest_rate)\n",
    "        return self._energy_market.find_market_price(capital, *prices)\n",
    "    \n",
    "    def _compute_non_renewable_sector_output(self, capital, energy_price):\n",
    "        prices = (energy_price, self._fossil_fuel_price)\n",
    "        return self._energy_market.non_renewable_sector.output(capital, *prices)\n",
    "    \n",
    "    def _compute_renewable_sector_output(self, energy_price):\n",
    "        prices = (self._capital_price, energy_price, self._interest_rate)\n",
    "        return self._energy_market.renewable_sector.output(*prices)\n",
    "    \n",
    "    def _compute_non_renewable_sector_profits(self, q, capital, energy_price):\n",
    "        prices = (self._capital_price, energy_price, self._fossil_fuel_price)\n",
    "        return self._energy_market.non_renewable_sector.profits(q, capital, *prices)\n",
    "    \n",
    "    def _compute_renewable_sector_profits(self, energy_price, energy_price_growth):\n",
    "        prices = (self._capital_price, energy_price, energy_price_growth, self._interest_rate)\n",
    "        return self._energy_market.renewable_sector.profits(*prices)\n",
    "\n",
    "    def _capital_dot(self, q, capital):\n",
    "        return self._energy_market.non_renewable_sector.equation_motion_capital(q, capital)\n",
    "        \n",
    "    def _q_dot(self, q, capital, energy_price):\n",
    "        prices = (self._capital_price, energy_price, self._fossil_fuel_price, self._interest_rate)\n",
    "        return self._energy_market.non_renewable_sector.equation_motion_q(q, capital, *prices)\n",
    "    \n",
    "    def _rhs(self, t, q, capital):\n",
    "        energy_price = self._compute_energy_price(capital)\n",
    "        return [self._q_dot(q, capital, energy_price), self._capital_dot(q, capital)]\n",
    "    \n",
    "    def _solve_reverse_shooting(self, t0, T, num, initial_capital):\n",
    "        \n",
    "        eps = 1e-12\n",
    "        step = np.array([eps, -eps]) if initial_capital <= self.equilibrium[1] else np.array([-eps, eps]) \n",
    "        initial_condition = (1 + step) * self.equilibrium\n",
    "\n",
    "        ts = np.linspace(t0, T, num)\n",
    "        rhs = lambda X, t: -1 * np.array(self._rhs(t, X[0], X[1]))\n",
    "        solution = integrate.odeint(rhs, y0=initial_condition, t=ts)\n",
    "        \n",
    "        return ts, solution[::-1, :]\n",
    "    \n",
    "        "
   ]
  },
  {
   "cell_type": "code",
   "execution_count": 87,
   "metadata": {
    "collapsed": false
   },
   "outputs": [
    {
     "ename": "NameError",
     "evalue": "name 'self' is not defined",
     "output_type": "error",
     "traceback": [
      "\u001b[1;31m---------------------------------------------------------------------------\u001b[0m",
      "\u001b[1;31mNameError\u001b[0m                                 Traceback (most recent call last)",
      "\u001b[1;32m<ipython-input-87-e2c53931c683>\u001b[0m in \u001b[0;36m<module>\u001b[1;34m()\u001b[0m\n\u001b[1;32m----> 1\u001b[1;33m \u001b[0m_ode\u001b[0m \u001b[1;33m=\u001b[0m \u001b[0mintegrate\u001b[0m\u001b[1;33m.\u001b[0m\u001b[0mode\u001b[0m\u001b[1;33m(\u001b[0m\u001b[0mself\u001b[0m\u001b[1;33m.\u001b[0m\u001b[0m_rhs\u001b[0m\u001b[1;33m)\u001b[0m\u001b[1;33m\u001b[0m\u001b[0m\n\u001b[0m\u001b[0;32m      2\u001b[0m \u001b[0m_ode\u001b[0m\u001b[1;33m.\u001b[0m\u001b[0mset_integrator\u001b[0m\u001b[1;33m(\u001b[0m\u001b[1;34m'dop853'\u001b[0m\u001b[1;33m)\u001b[0m\u001b[1;33m\u001b[0m\u001b[0m\n\u001b[0;32m      3\u001b[0m \u001b[0m_ode\u001b[0m\u001b[1;33m.\u001b[0m\u001b[0mset_initial_value\u001b[0m\u001b[1;33m(\u001b[0m\u001b[0my0\u001b[0m\u001b[1;33m,\u001b[0m \u001b[0mt0\u001b[0m\u001b[1;33m)\u001b[0m\u001b[1;33m\u001b[0m\u001b[0m\n\u001b[0;32m      4\u001b[0m \u001b[0m_ode\u001b[0m\u001b[1;33m.\u001b[0m\u001b[0mset_f_params\u001b[0m\u001b[1;33m(\u001b[0m\u001b[0mcapital_price\u001b[0m\u001b[1;33m,\u001b[0m \u001b[0mfossil_fuel_price\u001b[0m\u001b[1;33m,\u001b[0m \u001b[0minterest_rate\u001b[0m\u001b[1;33m)\u001b[0m\u001b[1;33m\u001b[0m\u001b[0m\n\u001b[0;32m      5\u001b[0m \u001b[1;33m\u001b[0m\u001b[0m\n",
      "\u001b[1;31mNameError\u001b[0m: name 'self' is not defined"
     ]
    }
   ],
   "source": [
    "_ode = integrate.ode(self._rhs)\n",
    "_ode.set_integrator('dop853')\n",
    "_ode.set_initial_value(y0, t0)\n",
    "\n",
    "solution = y0\n",
    "while _ode.successful() and _ode.y[1] > initial_capital:\n",
    "    _ode.t, "
   ]
  },
  {
   "cell_type": "code",
   "execution_count": 143,
   "metadata": {
    "collapsed": false
   },
   "outputs": [],
   "source": [
    "model = TransitionDynamicsModel(1, market, 1.0, 0.5, 0.09)"
   ]
  },
  {
   "cell_type": "code",
   "execution_count": 144,
   "metadata": {
    "collapsed": false
   },
   "outputs": [
    {
     "data": {
      "text/plain": [
       "array([   1.0001875 ,  192.09472065])"
      ]
     },
     "execution_count": 144,
     "metadata": {},
     "output_type": "execute_result"
    }
   ],
   "source": [
    "model.equilibrium"
   ]
  },
  {
   "cell_type": "code",
   "execution_count": 145,
   "metadata": {
    "collapsed": false
   },
   "outputs": [],
   "source": [
    "ts, solution = model.solve(0, 7, 1000, 100)"
   ]
  },
  {
   "cell_type": "code",
   "execution_count": 146,
   "metadata": {
    "collapsed": false
   },
   "outputs": [
    {
     "data": {
      "text/plain": [
       "[<matplotlib.lines.Line2D at 0xd96026afd0>]"
      ]
     },
     "execution_count": 146,
     "metadata": {},
     "output_type": "execute_result"
    },
    {
     "data": {
      "image/png": "[encoded data removed]",
      "text/plain": [
       "<matplotlib.figure.Figure at 0xd9615df6a0>"
      ]
     },
     "metadata": {},
     "output_type": "display_data"
    }
   ],
   "source": [
    "plt.plot(ts, solution[:, 1])"
   ]
  },
  {
   "cell_type": "code",
   "execution_count": 147,
   "metadata": {
    "collapsed": false
   },
   "outputs": [
    {
     "data": {
      "text/plain": [
       "[<matplotlib.lines.Line2D at 0xd9615f16d8>]"
      ]
     },
     "execution_count": 147,
     "metadata": {},
     "output_type": "execute_result"
    },
    {
     "data": {
      "image/png": "[encoded data removed]",
      "text/plain": [
       "<matplotlib.figure.Figure at 0xd961770908>"
      ]
     },
     "metadata": {},
     "output_type": "display_data"
    }
   ],
   "source": [
    "plt.plot(ts, solution[:, 0])"
   ]
  },
  {
   "cell_type": "code",
   "execution_count": 148,
   "metadata": {
    "collapsed": false
   },
   "outputs": [
    {
     "data": {
      "image/png": "[encoded data removed]",
      "text/plain": [
       "<matplotlib.figure.Figure at 0xd9615caa90>"
      ]
     },
     "metadata": {},
     "output_type": "display_data"
    }
   ],
   "source": [
    "fig = model.plot_energy_price(ts, solution[:, 1])"
   ]
  },
  {
   "cell_type": "code",
   "execution_count": 149,
   "metadata": {
    "collapsed": false
   },
   "outputs": [
    {
     "data": {
      "image/png": "[encoded data removed]",
      "text/plain": [
       "<matplotlib.figure.Figure at 0xd960506da0>"
      ]
     },
     "metadata": {},
     "output_type": "display_data"
    }
   ],
   "source": [
    "fig = model.plot_sector_costs(ts, solution[:, 0], solution[:, 1])"
   ]
  },
  {
   "cell_type": "code",
   "execution_count": 150,
   "metadata": {
    "collapsed": false
   },
   "outputs": [
    {
     "data": {
      "image/png": "[encoded data removed]",
      "text/plain": [
       "<matplotlib.figure.Figure at 0xd95ee840b8>"
      ]
     },
     "metadata": {},
     "output_type": "display_data"
    }
   ],
   "source": [
    "fig = model.plot_sector_profits(ts, solution[:, 0], solution[:, 1])"
   ]
  },
  {
   "cell_type": "code",
   "execution_count": 151,
   "metadata": {
    "collapsed": false
   },
   "outputs": [
    {
     "data": {
      "image/png": "[encoded data removed]",
      "text/plain": [
       "<matplotlib.figure.Figure at 0xd961729fd0>"
      ]
     },
     "metadata": {},
     "output_type": "display_data"
    }
   ],
   "source": [
    "fig = model.plot_sector_energy_output(ts, solution[:, 0], solution[:, 1])"
   ]
  },
  {
   "cell_type": "code",
   "execution_count": 58,
   "metadata": {
    "collapsed": false
   },
   "outputs": [
    {
     "data": {
      "image/png": "[encoded data removed]",
      "text/plain": [
       "<matplotlib.figure.Figure at 0xa82ba67128>"
      ]
     },
     "metadata": {},
     "output_type": "display_data"
    }
   ],
   "source": [
    "qs = np.linspace(1.0, 3, 100)\n",
    "plt.plot([model.q_dot_locus(q) for q in qs], qs)\n",
    "plt.axhline(1.0, color='k', linestyle='--')\n",
    "equilibrium_q = model.equilibrium[0]\n",
    "plt.plot(solution[::-1, 1], solution[::-1, 0])\n",
    "plt.axhline(equilibrium_q, color='k')\n",
    "#plt.xlim(3200, 3500)\n",
    "plt.ylim(0.999, 1.1)\n",
    "plt.show()"
   ]
  },
  {
   "cell_type": "code",
   "execution_count": 276,
   "metadata": {
    "collapsed": false
   },
   "outputs": [],
   "source": [
    "ps = np.array([model._compute_energy_price(0.59, capital) for capital in solution[::-1, 1]])"
   ]
  },
  {
   "cell_type": "code",
   "execution_count": 277,
   "metadata": {
    "collapsed": false
   },
   "outputs": [
    {
     "data": {
      "text/plain": [
       "array([ 0.59159205,  0.59162191,  0.59164997,  0.59167657,  0.59170194,\n",
       "        0.59172622,  0.59174952,  0.59177194,  0.59179354,  0.59181438,\n",
       "        0.59183453,  0.59185401,  0.59187286,  0.59189113,  0.59190885,\n",
       "        0.59192604,  0.59194272,  0.59195893,  0.59197468,  0.59198999,\n",
       "        0.59200488,  0.59201937,  0.59203347,  0.59204719,  0.59206057,\n",
       "        0.59207359,  0.59208628,  0.59209865,  0.59211071,  0.59212247,\n",
       "        0.59213394,  0.59214513,  0.59215605,  0.5921667 ,  0.5921771 ,\n",
       "        0.59218725,  0.59219716,  0.59220684,  0.59221629,  0.59222552,\n",
       "        0.59223454,  0.59224335,  0.59225196,  0.59226037,  0.59226859,\n",
       "        0.59227663,  0.59228449,  0.59229217,  0.59229968,  0.59230702,\n",
       "        0.5923142 ,  0.59232122,  0.59232809,  0.59233481,  0.59234138,\n",
       "        0.59234781,  0.5923541 ,  0.59236025,  0.59236627,  0.59237216,\n",
       "        0.59237793,  0.59238357,  0.59238909,  0.5923945 ,  0.59239979,\n",
       "        0.59240497,  0.59241004,  0.592415  ,  0.59241986,  0.59242462,\n",
       "        0.59242927,  0.59243383,  0.5924383 ,  0.59244267,  0.59244695,\n",
       "        0.59245115,  0.59245525,  0.59245927,  0.59246321,  0.59246707,\n",
       "        0.59247085,  0.59247455,  0.59247817,  0.59248172,  0.5924852 ,\n",
       "        0.59248861,  0.59249195,  0.59249522,  0.59249842,  0.59250156,\n",
       "        0.59250464,  0.59250765,  0.5925106 ,  0.5925135 ,  0.59251633,\n",
       "        0.59251911,  0.59252183,  0.5925245 ,  0.59252711,  0.59252967,\n",
       "        0.59253218,  0.59253464,  0.59253705,  0.59253942,  0.59254173,\n",
       "        0.592544  ,  0.59254622,  0.5925484 ,  0.59255054,  0.59255264,\n",
       "        0.59255469,  0.5925567 ,  0.59255867,  0.59256061,  0.5925625 ,\n",
       "        0.59256436,  0.59256618,  0.59256797,  0.59256971,  0.59257143,\n",
       "        0.59257311,  0.59257476,  0.59257638,  0.59257796,  0.59257951,\n",
       "        0.59258104,  0.59258253,  0.59258399,  0.59258543,  0.59258683,\n",
       "        0.59258821,  0.59258956,  0.59259089,  0.59259219,  0.59259346,\n",
       "        0.59259471,  0.59259594,  0.59259714,  0.59259831,  0.59259947,\n",
       "        0.5926006 ,  0.59260171,  0.5926028 ,  0.59260386,  0.59260491,\n",
       "        0.59260594,  0.59260694,  0.59260793,  0.5926089 ,  0.59260985,\n",
       "        0.59261078,  0.59261169,  0.59261258,  0.59261346,  0.59261432,\n",
       "        0.59261516,  0.59261599,  0.5926168 ,  0.5926176 ,  0.59261838,\n",
       "        0.59261914,  0.59261989,  0.59262062,  0.59262135,  0.59262205,\n",
       "        0.59262275,  0.59262343,  0.59262409,  0.59262475,  0.59262539,\n",
       "        0.59262602,  0.59262663,  0.59262724,  0.59262783,  0.59262841,\n",
       "        0.59262898,  0.59262954,  0.59263009,  0.59263063,  0.59263116,\n",
       "        0.59263168,  0.59263218,  0.59263268,  0.59263317,  0.59263365,\n",
       "        0.59263412,  0.59263458,  0.59263503,  0.59263547,  0.59263591,\n",
       "        0.59263633,  0.59263675,  0.59263716,  0.59263756,  0.59263796,\n",
       "        0.59263834,  0.59263872,  0.59263909,  0.59263946,  0.59263982,\n",
       "        0.59264017,  0.59264051,  0.59264085,  0.59264118,  0.59264151,\n",
       "        0.59264182,  0.59264214,  0.59264244,  0.59264274,  0.59264304,\n",
       "        0.59264333,  0.59264361,  0.59264389,  0.59264416,  0.59264443,\n",
       "        0.59264469,  0.59264495,  0.5926452 ,  0.59264545,  0.59264569,\n",
       "        0.59264593,  0.59264616,  0.59264639,  0.59264661,  0.59264683,\n",
       "        0.59264705,  0.59264726,  0.59264747,  0.59264767,  0.59264787,\n",
       "        0.59264807,  0.59264826,  0.59264845,  0.59264864,  0.59264882,\n",
       "        0.592649  ,  0.59264917,  0.59264934,  0.59264951,  0.59264968,\n",
       "        0.59264984,  0.59265   ,  0.59265015,  0.5926503 ,  0.59265045,\n",
       "        0.5926506 ,  0.59265074,  0.59265088,  0.59265102,  0.59265116,\n",
       "        0.59265129,  0.59265142,  0.59265155,  0.59265168,  0.5926518 ,\n",
       "        0.59265192,  0.59265204,  0.59265216,  0.59265227,  0.59265238,\n",
       "        0.59265249,  0.5926526 ,  0.59265271,  0.59265281,  0.59265291,\n",
       "        0.59265301,  0.59265311,  0.5926532 ,  0.5926533 ,  0.59265339,\n",
       "        0.59265348,  0.59265357,  0.59265366,  0.59265374,  0.59265383,\n",
       "        0.59265391,  0.59265399,  0.59265407,  0.59265414,  0.59265422,\n",
       "        0.59265429,  0.59265437,  0.59265444,  0.59265451,  0.59265458,\n",
       "        0.59265465,  0.59265471,  0.59265478,  0.59265484,  0.5926549 ,\n",
       "        0.59265496,  0.59265502,  0.59265508,  0.59265514,  0.5926552 ,\n",
       "        0.59265526,  0.59265531,  0.59265537,  0.59265542,  0.59265547,\n",
       "        0.59265552,  0.59265557,  0.59265562,  0.59265567,  0.59265571,\n",
       "        0.59265576,  0.5926558 ,  0.59265585,  0.59265589,  0.59265594,\n",
       "        0.59265598,  0.59265602,  0.59265606,  0.5926561 ,  0.59265614,\n",
       "        0.59265618,  0.59265621,  0.59265625,  0.59265629,  0.59265632,\n",
       "        0.59265635,  0.59265639,  0.59265642,  0.59265645,  0.59265649,\n",
       "        0.59265652,  0.59265655,  0.59265658,  0.59265661,  0.59265664,\n",
       "        0.59265667,  0.59265669,  0.59265672,  0.59265675,  0.59265677,\n",
       "        0.5926568 ,  0.59265682,  0.59265685,  0.59265687,  0.5926569 ,\n",
       "        0.59265692,  0.59265695,  0.59265697,  0.59265699,  0.59265701,\n",
       "        0.59265703,  0.59265705,  0.59265707,  0.59265709,  0.59265711,\n",
       "        0.59265713,  0.59265715,  0.59265717,  0.59265719,  0.59265721,\n",
       "        0.59265722,  0.59265724,  0.59265726,  0.59265727,  0.59265729,\n",
       "        0.59265731,  0.59265732,  0.59265734,  0.59265735,  0.59265737,\n",
       "        0.59265738,  0.5926574 ,  0.59265741,  0.59265742,  0.59265744,\n",
       "        0.59265745,  0.59265746,  0.59265748,  0.59265749,  0.5926575 ,\n",
       "        0.59265751,  0.59265752,  0.59265754,  0.59265755,  0.59265756,\n",
       "        0.59265757,  0.59265758,  0.59265759,  0.5926576 ,  0.59265761,\n",
       "        0.59265762,  0.59265763,  0.59265764,  0.59265765,  0.59265766,\n",
       "        0.59265767,  0.59265767,  0.59265768,  0.59265769,  0.5926577 ,\n",
       "        0.59265771,  0.59265772,  0.59265772,  0.59265773,  0.59265774,\n",
       "        0.59265775,  0.59265775,  0.59265776,  0.59265777,  0.59265777,\n",
       "        0.59265778,  0.59265779,  0.59265779,  0.5926578 ,  0.5926578 ,\n",
       "        0.59265781,  0.59265782,  0.59265782,  0.59265783,  0.59265783,\n",
       "        0.59265784,  0.59265784,  0.59265785,  0.59265786,  0.59265786,\n",
       "        0.59265787,  0.59265787,  0.59265788,  0.59265788,  0.59265788,\n",
       "        0.59265789,  0.59265789,  0.5926579 ,  0.5926579 ,  0.59265791,\n",
       "        0.59265791,  0.59265792,  0.59265792,  0.59265792,  0.59265793,\n",
       "        0.59265793,  0.59265793,  0.59265794,  0.59265794,  0.59265794,\n",
       "        0.59265795,  0.59265795,  0.59265795,  0.59265796,  0.59265796,\n",
       "        0.59265796,  0.59265797,  0.59265797,  0.59265797,  0.59265798,\n",
       "        0.59265798,  0.59265798,  0.59265798,  0.59265799,  0.59265799,\n",
       "        0.59265799,  0.59265799,  0.592658  ,  0.592658  ,  0.592658  ,\n",
       "        0.592658  ,  0.59265801,  0.59265801,  0.59265801,  0.59265801,\n",
       "        0.59265801,  0.59265802,  0.59265802,  0.59265802,  0.59265802,\n",
       "        0.59265802,  0.59265803,  0.59265803,  0.59265803,  0.59265803,\n",
       "        0.59265803,  0.59265803,  0.59265804,  0.59265804,  0.59265804,\n",
       "        0.59265804,  0.59265804,  0.59265804,  0.59265804,  0.59265805,\n",
       "        0.59265805,  0.59265805,  0.59265805,  0.59265805,  0.59265805,\n",
       "        0.59265805,  0.59265806,  0.59265806,  0.59265806,  0.59265806,\n",
       "        0.59265806,  0.59265806,  0.59265806,  0.59265806,  0.59265806,\n",
       "        0.59265807,  0.59265807,  0.59265807,  0.59265807,  0.59265807,\n",
       "        0.59265807,  0.59265807,  0.59265807,  0.59265807,  0.59265807,\n",
       "        0.59265807,  0.59265808,  0.59265808,  0.59265808,  0.59265808,\n",
       "        0.59265808,  0.59265808,  0.59265808,  0.59265808,  0.59265808,\n",
       "        0.59265808,  0.59265808,  0.59265808,  0.59265808,  0.59265809,\n",
       "        0.59265809,  0.59265809,  0.59265809,  0.59265809,  0.59265809,\n",
       "        0.59265809,  0.59265809,  0.59265809,  0.59265809,  0.59265809,\n",
       "        0.59265809,  0.59265809,  0.59265809,  0.59265809,  0.59265809,\n",
       "        0.59265809,  0.59265809,  0.59265809,  0.5926581 ,  0.5926581 ,\n",
       "        0.5926581 ,  0.5926581 ,  0.5926581 ,  0.5926581 ,  0.5926581 ,\n",
       "        0.5926581 ,  0.5926581 ,  0.5926581 ,  0.5926581 ,  0.5926581 ,\n",
       "        0.5926581 ,  0.5926581 ,  0.5926581 ,  0.5926581 ,  0.5926581 ,\n",
       "        0.5926581 ,  0.5926581 ,  0.5926581 ,  0.5926581 ,  0.5926581 ,\n",
       "        0.5926581 ,  0.5926581 ,  0.5926581 ,  0.5926581 ,  0.5926581 ,\n",
       "        0.5926581 ,  0.59265811,  0.59265811,  0.59265811,  0.59265811,\n",
       "        0.59265811,  0.59265811,  0.59265811,  0.59265811,  0.59265811,\n",
       "        0.59265811,  0.59265811,  0.59265811,  0.59265811,  0.59265811,\n",
       "        0.59265811,  0.59265811,  0.59265811,  0.59265811,  0.59265811,\n",
       "        0.59265811,  0.59265811,  0.59265811,  0.59265811,  0.59265811,\n",
       "        0.59265811,  0.59265811,  0.59265811,  0.59265811,  0.59265811,\n",
       "        0.59265811,  0.59265811,  0.59265811,  0.59265811,  0.59265811,\n",
       "        0.59265811,  0.59265811,  0.59265811,  0.59265811,  0.59265811,\n",
       "        0.59265811,  0.59265811,  0.59265811,  0.59265811,  0.59265811,\n",
       "        0.59265811,  0.59265811,  0.59265811,  0.59265811,  0.59265811,\n",
       "        0.59265811,  0.59265811,  0.59265811,  0.59265811,  0.59265811,\n",
       "        0.59265811,  0.59265811,  0.59265811,  0.59265811,  0.59265811,\n",
       "        0.59265811,  0.59265811,  0.59265811,  0.59265811,  0.59265811,\n",
       "        0.59265811,  0.59265811,  0.59265811,  0.59265811,  0.59265811,\n",
       "        0.59265811,  0.59265811,  0.59265811,  0.59265811,  0.59265811,\n",
       "        0.59265812,  0.59265812,  0.59265812,  0.59265812,  0.59265812,\n",
       "        0.59265812,  0.59265812,  0.59265812,  0.59265812,  0.59265812,\n",
       "        0.59265812,  0.59265812,  0.59265812,  0.59265812,  0.59265812,\n",
       "        0.59265812,  0.59265812,  0.59265812,  0.59265812,  0.59265812,\n",
       "        0.59265812,  0.59265812,  0.59265812,  0.59265812,  0.59265812,\n",
       "        0.59265812,  0.59265812,  0.59265812,  0.59265812,  0.59265812,\n",
       "        0.59265812,  0.59265812,  0.59265812,  0.59265812,  0.59265812,\n",
       "        0.59265812,  0.59265812,  0.59265812,  0.59265812,  0.59265812,\n",
       "        0.59265812,  0.59265812,  0.59265812,  0.59265812,  0.59265812,\n",
       "        0.59265812,  0.59265812,  0.59265812,  0.59265812,  0.59265812,\n",
       "        0.59265812,  0.59265812,  0.59265812,  0.59265812,  0.59265812,\n",
       "        0.59265812,  0.59265812,  0.59265812,  0.59265812,  0.59265812,\n",
       "        0.59265812,  0.59265812,  0.59265812,  0.59265812,  0.59265812,\n",
       "        0.59265812,  0.59265812,  0.59265812,  0.59265812,  0.59265812,\n",
       "        0.59265812,  0.59265812,  0.59265812,  0.59265812,  0.59265812,\n",
       "        0.59265812,  0.59265812,  0.59265812,  0.59265812,  0.59265812,\n",
       "        0.59265812,  0.59265812,  0.59265812,  0.59265812,  0.59265812,\n",
       "        0.59265812,  0.59265812,  0.59265812,  0.59265812,  0.59265812,\n",
       "        0.59265812,  0.59265812,  0.59265812,  0.59265812,  0.59265812,\n",
       "        0.59265812,  0.59265812,  0.59265812,  0.59265812,  0.59265812,\n",
       "        0.59265812,  0.59265812,  0.59265812,  0.59265812,  0.59265812,\n",
       "        0.59265812,  0.59265812,  0.59265812,  0.59265812,  0.59265812,\n",
       "        0.59265812,  0.59265812,  0.59265812,  0.59265812,  0.59265812,\n",
       "        0.59265812,  0.59265812,  0.59265812,  0.59265812,  0.59265812,\n",
       "        0.59265812,  0.59265812,  0.59265812,  0.59265812,  0.59265812,\n",
       "        0.59265812,  0.59265812,  0.59265812,  0.59265812,  0.59265812,\n",
       "        0.59265812,  0.59265812,  0.59265812,  0.59265812,  0.59265812,\n",
       "        0.59265812,  0.59265812,  0.59265812,  0.59265812,  0.59265812,\n",
       "        0.59265812,  0.59265812,  0.59265812,  0.59265812,  0.59265812,\n",
       "        0.59265812,  0.59265812,  0.59265812,  0.59265812,  0.59265812,\n",
       "        0.59265812,  0.59265812,  0.59265812,  0.59265812,  0.59265812,\n",
       "        0.59265812,  0.59265812,  0.59265812,  0.59265812,  0.59265812,\n",
       "        0.59265812,  0.59265812,  0.59265812,  0.59265812,  0.59265812,\n",
       "        0.59265812,  0.59265812,  0.59265812,  0.59265812,  0.59265812,\n",
       "        0.59265812,  0.59265812,  0.59265812,  0.59265812,  0.59265812,\n",
       "        0.59265812,  0.59265812,  0.59265812,  0.59265812,  0.59265812,\n",
       "        0.59265812,  0.59265812,  0.59265812,  0.59265812,  0.59265812,\n",
       "        0.59265812,  0.59265812,  0.59265812,  0.59265812,  0.59265812,\n",
       "        0.59265812,  0.59265812,  0.59265812,  0.59265812,  0.59265812,\n",
       "        0.59265812,  0.59265812,  0.59265812,  0.59265812,  0.59265812,\n",
       "        0.59265812,  0.59265812,  0.59265812,  0.59265812,  0.59265812,\n",
       "        0.59265812,  0.59265812,  0.59265812,  0.59265812,  0.59265812,\n",
       "        0.59265812,  0.59265812,  0.59265812,  0.59265812,  0.59265812,\n",
       "        0.59265812,  0.59265812,  0.59265812,  0.59265812,  0.59265812,\n",
       "        0.59265812,  0.59265812,  0.59265812,  0.59265812,  0.59265812,\n",
       "        0.59265812,  0.59265812,  0.59265812,  0.59265812,  0.59265812,\n",
       "        0.59265812,  0.59265812,  0.59265812,  0.59265812,  0.59265812,\n",
       "        0.59265812,  0.59265812,  0.59265812,  0.59265812,  0.59265812,\n",
       "        0.59265812,  0.59265812,  0.59265812,  0.59265812,  0.59265812,\n",
       "        0.59265812,  0.59265812,  0.59265812,  0.59265812,  0.59265812,\n",
       "        0.59265812,  0.59265812,  0.59265812,  0.59265812,  0.59265812,\n",
       "        0.59265812,  0.59265812,  0.59265812,  0.59265812,  0.59265812,\n",
       "        0.59265812,  0.59265812,  0.59265812,  0.59265812,  0.59265812,\n",
       "        0.59265812,  0.59265812,  0.59265812,  0.59265812,  0.59265812,\n",
       "        0.59265812,  0.59265812,  0.59265812,  0.59265812,  0.59265812,\n",
       "        0.59265812,  0.59265812,  0.59265812,  0.59265812,  0.59265812,\n",
       "        0.59265812,  0.59265812,  0.59265812,  0.59265812,  0.59265812,\n",
       "        0.59265812,  0.59265812,  0.59265812,  0.59265812,  0.59265812,\n",
       "        0.59265812,  0.59265812,  0.59265812,  0.59265812,  0.59265812,\n",
       "        0.59265812,  0.59265812,  0.59265812,  0.59265812,  0.59265812,\n",
       "        0.59265812,  0.59265812,  0.59265812,  0.59265812,  0.59265812,\n",
       "        0.59265812,  0.59265812,  0.59265812,  0.59265812,  0.59265812,\n",
       "        0.59265812,  0.59265812,  0.59265812,  0.59265812,  0.59265812,\n",
       "        0.59265812,  0.59265812,  0.59265812,  0.59265812,  0.59265812,\n",
       "        0.59265812,  0.59265812,  0.59265812,  0.59265812,  0.59265812,\n",
       "        0.59265812,  0.59265812,  0.59265812,  0.59265812,  0.59265812,\n",
       "        0.59265812,  0.59265812,  0.59265812,  0.59265812,  0.59265812,\n",
       "        0.59265812,  0.59265812,  0.59265812,  0.59265812,  0.59265812,\n",
       "        0.59265812,  0.59265812,  0.59265812,  0.59265812,  0.59265812,\n",
       "        0.59265812,  0.59265812,  0.59265812,  0.59265812,  0.59265812,\n",
       "        0.59265812,  0.59265812,  0.59265812,  0.59265812,  0.59265812])"
      ]
     },
     "execution_count": 277,
     "metadata": {},
     "output_type": "execute_result"
    }
   ],
   "source": [
    "ps"
   ]
  },
  {
   "cell_type": "code",
   "execution_count": 184,
   "metadata": {
    "collapsed": false,
    "scrolled": true
   },
   "outputs": [
    {
     "name": "stderr",
     "output_type": "stream",
     "text": [
      "C:\\Users\\pughdr\\Research\\Transitions\\energy_sectors.py:131: RuntimeWarning: invalid value encountered in sqrt\n",
      "  demand = ((2 / 3) * (q - 1) * (1 / self._phi))**0.5 * capital\n"
     ]
    }
   ],
   "source": [
    "params = {'K0': 3000, 'interest_rate': 0.09, 'capital_price': 0.5, 'fossil_fuel_price': 0.75}\n",
    "\n",
    "bvp = pycollocation.problems.TwoPointBVP(bcs_lower=initial_condition,\n",
    "                                         bcs_upper=terminal_condition,\n",
    "                                         number_bcs_lower=1,\n",
    "                                         number_odes=2,\n",
    "                                         params=params,\n",
    "                                         rhs=model,\n",
    "                                         )\n",
    "    \n",
    "polynomial_basis = pycollocation.basis_functions.PolynomialBasis()\n",
    "solver = pycollocation.solvers.Solver(polynomial_basis)\n",
    "\n",
    "boundary_points = (0, 100)\n",
    "ts, qs, Ks = initial_mesh(*boundary_points, num=1000, problem=bvp)\n",
    "\n",
    "basis_kwargs = {'kind': 'Chebyshev', 'domain': boundary_points, 'degree': 75}\n",
    "K_poly = polynomial_basis.fit(ts, Ks, **basis_kwargs)\n",
    "q_poly = polynomial_basis.fit(ts, qs, **basis_kwargs)\n",
    "initial_coefs = np.hstack([q_poly.coef, K_poly.coef])\n",
    "nodes = polynomial_basis.roots(**basis_kwargs)\n",
    "\n",
    "solution = solver.solve(basis_kwargs, boundary_points, initial_coefs, nodes, bvp)"
   ]
  },
  {
   "cell_type": "code",
   "execution_count": 185,
   "metadata": {
    "collapsed": false
   },
   "outputs": [
    {
     "data": {
      "image/png": "[encoded data removed]",
      "text/plain": [
       "<matplotlib.figure.Figure at 0xc577e3cef0>"
      ]
     },
     "metadata": {},
     "output_type": "display_data"
    }
   ],
   "source": [
    "q_solution, capital_solution = solution.evaluate_solution(ts)\n",
    "\n",
    "fig, axes = plt.subplots(4, 1, figsize=(8, 16))\n",
    "\n",
    "axes[0].plot(ts, q_solution, label=r'$q$')\n",
    "axes[0].set_xlabel(r'$t$, time', fontsize=25, family='serif')\n",
    "axes[0].set_title(r\"Tobin's $q$\", fontsize=25, family='serif')\n",
    "axes[0].legend()\n",
    "\n",
    "axes[1].plot(ts, capital_solution, label=r'$K$')\n",
    "axes[1].set_xlabel(r'$t$, time', fontsize=25, family='serif')\n",
    "axes[1].set_title(r\"Capital stock, $K$\", fontsize=25, family='serif')\n",
    "axes[1].legend()\n",
    "\n",
    "# plot residuals\n",
    "q_resids, capital_resids = solution.normalize_residuals(ts)\n",
    "\n",
    "axes[2].plot(ts, np.abs(q_resids), label=r'$q$')\n",
    "axes[2].plot(ts, np.abs(capital_resids), label=r'$K$')\n",
    "axes[2].set_xlabel(r'$K$', fontsize=25)\n",
    "axes[2].set_ylim(1e-16, 1.0)\n",
    "axes[2].set_yscale('log')\n",
    "axes[2].set_title(\"Normalized absolute residuals\", fontsize=25, family='serif')\n",
    "axes[2].legend()\n",
    "\n",
    "axes[3].plot(capital_solution, q_solution)\n",
    "axes[3].set_xlabel(r'$K$', fontsize=25)\n",
    "axes[3].set_ylabel(r'$q$', fontsize=25, rotation='horizontal')\n",
    "\n",
    "fig.tight_layout()\n",
    "\n",
    "plt.show()\n"
   ]
  },
  {
   "cell_type": "code",
   "execution_count": 167,
   "metadata": {
    "collapsed": false
   },
   "outputs": [
    {
     "data": {
      "text/plain": [
       "    fjac: array([[ -3.32168219e-06,  -3.31699141e-06,  -3.33369993e-06, ...,\n",
       "         -3.97008908e-01,   2.20816209e-08,   5.20953624e-05],\n",
       "       [ -2.53957636e-05,  -2.52699206e-05,  -2.51882135e-05, ...,\n",
       "          2.38072435e-01,   9.64184884e-08,  -3.14288677e-05],\n",
       "       [ -5.44671316e-05,  -5.38379202e-05,  -5.28687824e-05, ...,\n",
       "         -2.31227040e-01,   8.61262511e-08,   3.07338970e-05],\n",
       "       ..., \n",
       "       [ -2.70108705e-02,   7.98221897e-02,  -1.29419844e-01, ...,\n",
       "          1.69137478e-05,  -1.31230062e-07,   2.17928621e-04],\n",
       "       [  1.08198559e-02,  -3.22690608e-02,   5.33557768e-02, ...,\n",
       "          6.11248392e-06,   6.46368044e-08,   7.20022449e-05],\n",
       "       [ -8.77331816e-03,   2.63629386e-02,  -4.41452778e-02, ...,\n",
       "          6.90899961e-06,  -6.43853301e-08,   1.39091986e-04]])\n",
       "     fun: array([  4.44342913e-14,   4.34426800e-14,   5.50204413e-14,\n",
       "         6.66309456e-14,   7.15395625e-14,   7.04924400e-14,\n",
       "         7.32710333e-14,   7.33113657e-14,   7.41125911e-14,\n",
       "         7.47377420e-14,   7.49125154e-14,   7.53206091e-14,\n",
       "         7.54217652e-14,   7.66718503e-14,   7.47159496e-14,\n",
       "         7.18455785e-14,   6.77831272e-14,   6.36931371e-14,\n",
       "         5.77270436e-14,   4.97953458e-14,   3.97687525e-14,\n",
       "         2.89581727e-14,   2.31711351e-14,   1.38214093e-14,\n",
       "         7.25808302e-15,   5.31692745e-16,  -2.97678548e-15,\n",
       "        -4.53630189e-15,  -4.56839427e-15,  -4.00807859e-15,\n",
       "        -3.64812347e-15,  -7.17828574e-15,  -4.70110062e-15,\n",
       "        -1.23512311e-15,  -4.00374178e-15,   3.57644581e-10,\n",
       "         3.28569172e-10,   4.21550794e-10,   4.83780127e-10,\n",
       "         4.84888574e-10,   4.39627001e-10,   3.32093464e-10,\n",
       "         1.44765977e-10,  -1.80961024e-10,  -6.97639280e-10,\n",
       "        -1.47929313e-09,  -2.58461341e-09,  -4.05523792e-09,\n",
       "        -5.88681814e-09,  -7.99411737e-09,  -1.02400008e-08,\n",
       "        -1.23958444e-08,  -1.41898227e-08,  -1.53019641e-08,\n",
       "        -1.54384452e-08,  -1.45022341e-08,  -1.25481279e-08,\n",
       "        -9.80048753e-09,  -6.60634214e-09,  -3.53088581e-09,\n",
       "        -1.01999831e-09,   5.77756509e-10,   1.31842626e-09,\n",
       "         1.37714551e-09,   1.08002496e-09,   7.65908226e-10,\n",
       "         4.56680027e-10,   1.85423232e-10,   6.55973054e-11,\n",
       "         1.09139364e-11,  -3.63797881e-11,   0.00000000e+00])\n",
       " message: 'The solution converged.'\n",
       "    nfev: 548\n",
       "     qtf: array([  5.21331993e-08,  -1.96828536e-07,   4.09929612e-07,\n",
       "        -1.46555737e-07,  -5.53730526e-07,   3.73963619e-07,\n",
       "        -2.21974128e-08,   5.10118694e-08,  -2.93738215e-08,\n",
       "        -9.45809084e-09,   6.18567310e-09,   1.13888046e-09,\n",
       "        -3.76747196e-10,   5.42538211e-09,   7.02053287e-09,\n",
       "         3.21277427e-09,   1.25653103e-09,   1.97580265e-09,\n",
       "         6.20135422e-09,   3.58309744e-09,   6.45934606e-10,\n",
       "        -4.28332437e-09,  -4.25855849e-09,   5.35612264e-09,\n",
       "         4.12430940e-09,   4.85979121e-09,  -2.51146711e-09,\n",
       "        -6.58168324e-10,  -1.68834213e-09,  -2.06520246e-10,\n",
       "        -2.61397272e-09,   4.28796171e-09,  -2.12662583e-09,\n",
       "         2.14035799e-10,   3.99609430e-10,   1.99838159e-11,\n",
       "        -1.03668731e-10,  -2.77495947e-12,  -1.52261490e-11,\n",
       "         1.97838104e-11,  -1.89563645e-11,   1.98246623e-11,\n",
       "        -1.00365769e-11,   4.17269264e-11,   1.55561991e-11,\n",
       "        -1.17525989e-11,  -4.93316470e-12,  -7.38606916e-12,\n",
       "        -5.47200836e-12,  -8.58118704e-12,  -5.47825623e-12,\n",
       "        -8.18774346e-12,  -4.41602425e-12,   7.76468380e-12,\n",
       "         4.60359180e-12,   5.20650839e-12,  -3.87400030e-12,\n",
       "         4.49441360e-12,   3.24223606e-12,  -2.02029085e-12,\n",
       "         3.81808403e-12,   3.87626824e-13,  -3.11779905e-12,\n",
       "        -1.57896621e-13,   2.43756047e-12,  -3.92147558e-13,\n",
       "         9.01766395e-13,  -2.80744719e-13,   2.90900630e-13,\n",
       "        -1.18578418e-12,  -1.24029357e-12,  -3.19891412e-13])\n",
       "       r: array([  1.91955663e+04,   1.59487156e+04,   1.03410908e+04, ...,\n",
       "         3.43557535e-03,  -3.68796653e-03,   3.70699046e-03])\n",
       "  status: 1\n",
       " success: True\n",
       "       x: array([  1.17081360e+00,  -5.97542126e-02,  -3.61281735e-02,\n",
       "        -1.71847205e-02,  -6.91668354e-03,  -2.52869001e-03,\n",
       "        -8.97136166e-04,  -3.24403604e-04,  -1.22192389e-04,\n",
       "        -4.79799233e-05,  -1.95356373e-05,  -8.22327707e-06,\n",
       "        -3.57667715e-06,  -1.60716483e-06,  -7.45433634e-07,\n",
       "        -3.56313931e-07,  -1.75165222e-07,  -8.83642502e-08,\n",
       "        -4.56362167e-08,  -2.40741663e-08,  -1.29435720e-08,\n",
       "        -7.07852731e-09,  -3.93030801e-09,  -2.21208474e-09,\n",
       "        -1.26023552e-09,  -7.25842282e-10,  -4.22204557e-10,\n",
       "        -2.47820324e-10,  -1.46712075e-10,  -8.76092878e-11,\n",
       "        -5.28442274e-11,  -3.23421275e-11,  -2.03206879e-11,\n",
       "        -1.34368407e-11,  -1.02521695e-11,  -4.69617617e-12,\n",
       "         1.56155085e+04,   1.59644673e+04,   3.38666687e+03,\n",
       "        -3.42992815e+02,  -6.02552846e+02,  -3.12691008e+02,\n",
       "        -1.23502759e+02,  -4.42423157e+01,  -1.60286205e+01,\n",
       "        -6.40273718e+00,  -2.91739561e+00,  -1.47767985e+00,\n",
       "        -7.96612523e-01,  -4.43827053e-01,  -2.52088218e-01,\n",
       "        -1.45200481e-01,  -8.46324456e-02,  -4.98582083e-02,\n",
       "        -2.96578803e-02,  -1.77971845e-02,  -1.07647742e-02,\n",
       "        -6.55801399e-03,  -4.02127280e-03,  -2.48042497e-03,\n",
       "        -1.53831094e-03,  -9.58827849e-04,  -6.00466026e-04,\n",
       "        -3.77780973e-04,  -2.38835857e-04,  -1.51874338e-04,\n",
       "        -9.73821134e-05,  -6.33243197e-05,  -4.22747359e-05,\n",
       "        -2.96780236e-05,  -2.32683897e-05,  -1.05864323e-05])"
      ]
     },
     "execution_count": 167,
     "metadata": {},
     "output_type": "execute_result"
    }
   ],
   "source": [
    "solution.result"
   ]
  },
  {
   "cell_type": "code",
   "execution_count": null,
   "metadata": {
    "collapsed": true
   },
   "outputs": [],
   "source": []
  }
 ],
 "metadata": {
  "kernelspec": {
   "display_name": "Python [Root]",
   "language": "python",
   "name": "Python [Root]"
  },
  "language_info": {
   "codemirror_mode": {
    "name": "ipython",
    "version": 3
   },
   "file_extension": ".py",
   "mimetype": "text/x-python",
   "name": "python",
   "nbconvert_exporter": "python",
   "pygments_lexer": "ipython3",
   "version": "3.5.2"
  }
 },
 "nbformat": 4,
 "nbformat_minor": 0
}
