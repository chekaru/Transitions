{
 "cells": [
  {
   "cell_type": "code",
   "execution_count": null,
   "metadata": {
    "collapsed": true
   },
   "outputs": [],
   "source": [
    "from scipy import optimize"
   ]
  },
  {
   "cell_type": "markdown",
   "metadata": {},
   "source": [
    "## Renewable energy sector"
   ]
  },
  {
   "cell_type": "code",
   "execution_count": 30,
   "metadata": {
    "collapsed": false
   },
   "outputs": [],
   "source": [
    "class RenewableEnergySector:\n",
    "\n",
    "    @staticmethod\n",
    "    def output(capital, alpha, tfp, **params):\n",
    "        \"\"\"Renewable energy output.\"\"\"\n",
    "        return tfp * capital**alpha\n",
    "\n",
    "    @classmethod\n",
    "    def revenue(cls, capital, alpha, energy_price, tfp, **params):\n",
    "        \"\"\"Renewable energy revenue.\"\"\"\n",
    "        return cls.subsidy(energy_price) * cls.output(capital, alpha, tfp, **params)\n",
    "    \n",
    "    @staticmethod\n",
    "    def subsidy(energy_price, **params):\n",
    "        \"\"\"For now assume that subsidy is the energy price.\"\"\"\n",
    "        return energy_price\n",
    "\n",
    "    @staticmethod\n",
    "    def total_costs(capital, gross_interest_rate, **params):\n",
    "        \"\"\"Renewable energy production costs.\"\"\"\n",
    "        return gross_interest_rate * capital\n",
    "\n",
    "    @classmethod\n",
    "    def profits(cls, capital, energy_price, alpha, gross_interest_rate, tfp, **params):\n",
    "        \"\"\"Renewable energy sector profits.\"\"\"\n",
    "        pi = (cls.revenue(capital, alpha, energy_price, tfp, **params) - \n",
    "              cls.total_costs(capital, gross_interest_rate, **params))\n",
    "        return pi\n",
    "    \n",
    "    @classmethod\n",
    "    def capital_demand(cls, alpha, energy_price, gross_interest_rate, tfp, **params):\n",
    "        \"\"\"\n",
    "        Renewable energy sector demand for physical capital.\n",
    "        \n",
    "        Note\n",
    "        ----\n",
    "        The demand for physical capital is a function of the price of energy\n",
    "        (which may or may not be subsidized) and model parameters.\n",
    "        \n",
    "        \"\"\"\n",
    "        return (alpha * tfp * (cls.subsidy(energy_price) / gross_interest_rate))**(1 / (1 - alpha))\n",
    "\n",
    "    "
   ]
  },
  {
   "cell_type": "markdown",
   "metadata": {},
   "source": [
    "## Non-renewable energy sector"
   ]
  },
  {
   "cell_type": "code",
   "execution_count": 32,
   "metadata": {
    "collapsed": false
   },
   "outputs": [],
   "source": [
    "class NonRenewableEnergySector:\n",
    "\n",
    "    @staticmethod\n",
    "    def capital_adjustment_costs(capital, previous_capital, phi):\n",
    "        \"\"\"Convex capital adjustment cost function.\"\"\"\n",
    "        return (phi / 2) * (capital - previous_capital)**2\n",
    "    \n",
    "    @staticmethod\n",
    "    def marginal_adjustment_costs(capital, previous_capital, phi):\n",
    "        \"\"\"Marginal costs of adjusting stock of capital.\"\"\"\n",
    "        return phi * (capital - previous_capital)\n",
    "    \n",
    "    @classmethod\n",
    "    def total_cost_capital(cls, capital, previous_capital, phi):\n",
    "        \"\"\"Total costs of capital for use in producing energy from fossil fuels.\"\"\"\n",
    "        return gross_interest_rate * capital + cls.adjustment_costs(capital, previous_capital, phi)\n",
    "    \n",
    "    @classmethod\n",
    "    def total_cost_fossil_fuel(cls, fossil_fuel, fossil_fuel_price):\n",
    "        \"\"\"Total costs of purchasing fossil fuel for use in energy production.\"\"\"\n",
    "        return fossil_fuel_price * fossil_fuel\n",
    "    \n",
    "    @classmethod\n",
    "    def total_costs(cls, capital, previous_capital, fossil_fuel, fossil_fuel_price, phi):\n",
    "        \"\"\"Total costs of producing energy from fossil fuels.\"\"\"\n",
    "        costs = (cls.total_cost_capital(capital, previous_capital, phi) +\n",
    "                 cls.total_cost_fossil_fuel(fossil_fuel, fossil_fuel_price))\n",
    "        return costs\n",
    "    \n",
    "    @classmethod\n",
    "    def marginal_cost_capital(cls, capital, previous_capital, phi):\n",
    "        \"\"\"Costs of adjusting stock of physical capital.\"\"\"\n",
    "        return gross_interest_rate + cls.marginal_adjustment_costs(capital, previous_capital, phi)\n",
    "    \n",
    "    @staticmethod\n",
    "    def output(capital, fossil_fuel, beta, tfp, **params):\n",
    "        \"\"\"Non-renewable energy output.\"\"\"\n",
    "        return tfp * capital**beta * fossil_fuel**(1 - beta)\n",
    "    \n",
    "    @classmethod\n",
    "    def revenue(cls, capital, fossil_fuel, beta, energy_price, tfp, **params):\n",
    "        \"\"\"Renewable energy revenue.\"\"\"\n",
    "        return energy_price * cls.output(capital, fossil_fuel, beta, tfp, **params)\n",
    "    \n",
    "    @classmethod\n",
    "    def capital_output_ratio(cls, capital, fossil_fuel, beta, tfp, **params):\n",
    "        \"\"\"Ratio of capital stock to output.\"\"\"\n",
    "        return capital / cls.output(tfp, capital, fossil_fuel, beta)\n",
    "    \n",
    "    @classmethod\n",
    "    def value_marginal_product_capital(cls, capital, fossil_fuel, beta, energy_price, tfp, **params):\n",
    "        \"\"\"Contribution to firm revenue of the marginal unit of installed capital.\"\"\"\n",
    "        return energy_price * beta / cls.capital_output_ratio(capital, fossil_fuel, beta, tfp, **params)\n",
    "    \n",
    "    @classmethod\n",
    "    def net_value_marginal_product_capital(capital, previous_capital, fossil_fuel, beta, energy_price, phi, tfp, **params):\n",
    "        return cls.value_marginal_product_capital(capital, fossil_fuel, beta, energy_price, tfp, **params) - cls.marginal_cost_capital(capital, previous_capital, phi)\n",
    "\n",
    "    @classmethod\n",
    "    def future_capital_demand(cls, capital, previous_capital, fossil_fuel, beta, energy_price, eta, phi, tfp, **params):\n",
    "        \"\"\"Demand for capital is forward looking?\"\"\"\n",
    "        return capital + (cls.net_value_marginal_product_capital(capital, previous_capital, fossil_fuel, beta, energy_price, phi, tfp, **params) / (eta * phi))\n",
    "        \n",
    "    @staticmethod\n",
    "    def fossil_fuel_demand(beta, energy_price, fossil_fuel_price, tfp, **params):\n",
    "        \"\"\"Non-renewable energy sector demand for fossil fuels.\"\"\"\n",
    "        return (tfp * (1 - beta) * (energy_price / fossil_fuel_price))**(1 / beta)\n",
    "    "
   ]
  },
  {
   "cell_type": "markdown",
   "metadata": {},
   "source": [
    "## Market for energy"
   ]
  },
  {
   "cell_type": "code",
   "execution_count": null,
   "metadata": {
    "collapsed": true
   },
   "outputs": [],
   "source": [
    "class EnergyMarket:\n",
    "    \n",
    "    def __init__(self, consumer, renewable_sector, non_renewable_sector):\n",
    "        self.consumer = consumer\n",
    "        self.renewable_sector = renewable_sector\n",
    "        self.non_renewable_sector = non_renewable_sector\n",
    "        \n",
    "    def price(self, non_renewable_sector_capital, renewable_sector_capital, renewable_sector_params):\n",
    "        return (((self.consumer.demand() - self.renewable_sector.output(renewable_sector_capital, **renewable_sector_params)) / capital)**beta * (1 / psi))**(1 / (1 - beta)) * ((1 - beta) / fossil_fuel_price)\n",
    "        "
   ]
  },
  {
   "cell_type": "markdown",
   "metadata": {},
   "source": [
    "## Physical capital market"
   ]
  },
  {
   "cell_type": "code",
   "execution_count": null,
   "metadata": {
    "collapsed": true
   },
   "outputs": [],
   "source": []
  },
  {
   "cell_type": "markdown",
   "metadata": {},
   "source": [
    "## Model parameters"
   ]
  },
  {
   "cell_type": "code",
   "execution_count": 17,
   "metadata": {
    "collapsed": false
   },
   "outputs": [],
   "source": [
    "renewable_sector_params = {'alpha': 0.3, 'tfp': 3.692, 'gross_interest_rate': 1.09}\n",
    "non_renewable_sector_params = {'beta': 0.67, 'tfp': 1, 'fossil_fuel_price': 1, 'phi': 0.2, 'eta': 0.9, 'psi': 1}"
   ]
  },
  {
   "cell_type": "code",
   "execution_count": 27,
   "metadata": {
    "collapsed": false
   },
   "outputs": [
    {
     "data": {
      "text/plain": [
       "1.023146409367968"
      ]
     },
     "execution_count": 27,
     "metadata": {},
     "output_type": "execute_result"
    }
   ],
   "source": [
    "RenewableEnergySector.capital_demand(energy_price = 1.0, **renewable_sector_params)"
   ]
  },
  {
   "cell_type": "code",
   "execution_count": 31,
   "metadata": {
    "collapsed": false
   },
   "outputs": [
    {
     "data": {
      "text/plain": [
       "2.6020000000000003"
      ]
     },
     "execution_count": 31,
     "metadata": {},
     "output_type": "execute_result"
    }
   ],
   "source": [
    "RenewableEnergySector.profits(1.0, energy_price=1.0, **renewable_sector_params)"
   ]
  },
  {
   "cell_type": "code",
   "execution_count": null,
   "metadata": {
    "collapsed": true
   },
   "outputs": [],
   "source": []
  },
  {
   "cell_type": "code",
   "execution_count": null,
   "metadata": {
    "collapsed": true
   },
   "outputs": [],
   "source": []
  },
  {
   "cell_type": "code",
   "execution_count": null,
   "metadata": {
    "collapsed": true
   },
   "outputs": [],
   "source": []
  },
  {
   "cell_type": "code",
   "execution_count": 7,
   "metadata": {
    "collapsed": true
   },
   "outputs": [],
   "source": [
    "def non_renewable_capital_dynamics(capital, previous_capital, energy_market, renewable_params, non_renewable_params):\n",
    "    \"\"\"Second order difference equation describes the dynamics of capital stock.\"\"\"\n",
    "    energy_price = energy_market.price(renewable_params, non_renewable_params)\n",
    "    fossil_fuel = non_renewable_sector.fossil_fuel_demand(energy_price, non_renewable_params)\n",
    "    future_capital = energy_market.non_renewable_sector.future_capital_demand(capital, previous_capital, fossil_fuel, energy_price)\n",
    "    return future_capital\n"
   ]
  },
  {
   "cell_type": "code",
   "execution_count": null,
   "metadata": {
    "collapsed": true
   },
   "outputs": [],
   "source": [
    "def simulate_non_renewable_capital_dynamics(energy_market, renewable_params, non_renewable_params):\n",
    "    capital = np.empty(T)\n",
    "    capital[0:2] = initial_capital\n",
    "    \n",
    "    for t in range(T):\n",
    "        capital[t] = non_renewable_capital_dynamics(capital[t-1], capital[t-2], energy_market, renewable_params, non_renewable_params)\n",
    "    \n",
    "    return capital"
   ]
  }
 ],
 "metadata": {
  "kernelspec": {
   "display_name": "Python [Root]",
   "language": "python",
   "name": "Python [Root]"
  },
  "language_info": {
   "codemirror_mode": {
    "name": "ipython",
    "version": 3
   },
   "file_extension": ".py",
   "mimetype": "text/x-python",
   "name": "python",
   "nbconvert_exporter": "python",
   "pygments_lexer": "ipython3",
   "version": "3.5.2"
  }
 },
 "nbformat": 4,
 "nbformat_minor": 0
}
