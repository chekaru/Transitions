{
 "cells": [
  {
   "cell_type": "code",
   "execution_count": 1,
   "metadata": {
    "collapsed": true
   },
   "outputs": [],
   "source": [
    "%matplotlib inline"
   ]
  },
  {
   "cell_type": "code",
   "execution_count": 17,
   "metadata": {
    "collapsed": false
   },
   "outputs": [],
   "source": [
    "import numpy as np\n",
    "import matplotlib.pyplot as plt\n",
    "from scipy import optimize\n",
    "\n",
    "from energy_markets import EnergyMarket\n",
    "from energy_sectors import NonRenewableEnergySector, RenewableEnergySector\n"
   ]
  },
  {
   "cell_type": "markdown",
   "metadata": {},
   "source": [
    "## Renewable energy sector"
   ]
  },
  {
   "cell_type": "code",
   "execution_count": null,
   "metadata": {
    "collapsed": false
   },
   "outputs": [],
   "source": []
  },
  {
   "cell_type": "markdown",
   "metadata": {},
   "source": [
    "\\begin{align}\n",
    "    SAK^{\\alpha} - RK \\\\\n",
    "    SA\\alpha K^{\\alpha - 1} - R = 0  \\\\\n",
    "    A\\alpha K^{\\alpha - 1} = \\frac{R}{S} \\\\\n",
    "    K^{\\alpha - 1} = \\frac{R}{S} \\frac{1}{A\\alpha} \\\\\n",
    "    K = \\bigg(\\frac{R}{S} \\frac{1}{A\\alpha}\\bigg)^{\\alpha - 1} = \\bigg(\\frac{S}{R} A\\alpha\\bigg)^{1 - \\alpha}\n",
    "\\end{align}"
   ]
  },
  {
   "cell_type": "markdown",
   "metadata": {},
   "source": [
    "## Non-renewable energy sector\n",
    "\n",
    "Objective of the non-renewable energy sector is to maximize lifetime profits...\n",
    "\n",
    "$$ V^{NRE}_0 = \\sum_{t=0}^{\\infty} \\frac{1}{R}\\Pi^{NRE}_t $$\n",
    "\n",
    "where rofits in period $t$...\n",
    "\n",
    "$$ \\Pi^{NRE}_t = P^{E}_tE^{NRE}_t - P^{F}_t F_t - I_t - \\Phi\\bigg(\\frac{I_t}{K^{NRE}_t}\\bigg)K^{NRE}_t $$\n",
    "\n",
    "...where the stock of physical capital used by non-renewable energy sector evolves according to...\n",
    "\n",
    "$$ K^{NRE}_{t+1} = I_t + (1 - \\delta)K^{NRE}_t $$\n",
    "\n",
    "...and the per-unit investment adjustment costs are captured by the function $\\Phi$.  Assume that $\\Phi' > 0$ and the $\\Phi'' > 0$ (i.e., that $\\Phi$ is a convex function).\n",
    "\n",
    "### Solution\n",
    "Forming the Lagrangian...\n",
    "\n",
    "$$ \\mathcal{L} \\equiv \\sum_{t=0}^{\\infty} \\frac{1}{R}\\Pi^{NRE}_t + q_t\\bigg[I_t + (1 - \\delta)K^{NRE}_t - K^{NRE}_{t+1}\\bigg] $$\n",
    "\n",
    "...choice variables are $F_t$, $I_t$. First-order conditions are...\n",
    "\n",
    "\\begin{align}\n",
    "   \\frac{\\partial \\mathcal{L}}{\\partial F_t} = 0 \\equiv 0 =& \\psi_t(1-\\beta) K^{NRE\\ \\beta}_t F^{-\\beta}_t - P^F_t \\\\\n",
    "   \\frac{\\partial \\mathcal{L}}{\\partial I_t} = 0 \\equiv 0 =& q_t - 1 - \\Phi'\\bigg(\\frac{I_t}{K^{NRE}_t}\\bigg) \\\\\n",
    "\\end{align}\n"
   ]
  },
  {
   "cell_type": "code",
   "execution_count": null,
   "metadata": {
    "collapsed": false
   },
   "outputs": [],
   "source": []
  },
  {
   "cell_type": "markdown",
   "metadata": {},
   "source": [
    "\\begin{align}\n",
    "    P(1 - \\beta)\\psi K^{\\beta}F^{-\\beta} = P^F\\\\\n",
    "    P(1 - \\beta)\\psi K^{\\beta} = P^FF^{\\beta}\\\\\n",
    "\\end{align}"
   ]
  },
  {
   "cell_type": "code",
   "execution_count": null,
   "metadata": {
    "collapsed": true
   },
   "outputs": [],
   "source": []
  },
  {
   "cell_type": "markdown",
   "metadata": {},
   "source": [
    "## Market for energy"
   ]
  },
  {
   "cell_type": "code",
   "execution_count": null,
   "metadata": {
    "collapsed": false
   },
   "outputs": [],
   "source": []
  },
  {
   "cell_type": "markdown",
   "metadata": {},
   "source": [
    "## Model parameters"
   ]
  },
  {
   "cell_type": "code",
   "execution_count": 3,
   "metadata": {
    "collapsed": false
   },
   "outputs": [],
   "source": [
    "consumer_params = {'energy_quantity': 100}\n",
    "renewable_params = {'alpha': 0.3, 'tfp': 3.692, 'gross_interest_rate': 1.09}\n",
    "non_renewable_params = {'beta': 0.67, 'tfp': 1, 'gross_interest_rate': 1.09, 'fossil_fuel_price': 1, 'phi': 0.2, 'eta': 0.9}"
   ]
  },
  {
   "cell_type": "code",
   "execution_count": null,
   "metadata": {
    "collapsed": true
   },
   "outputs": [],
   "source": []
  },
  {
   "cell_type": "code",
   "execution_count": 34,
   "metadata": {
    "collapsed": true
   },
   "outputs": [],
   "source": [
    "def non_renewable_capital_dynamics(capital, previous_capital, consumer_params, non_renewable_params, renewable_params):\n",
    "    \"\"\"Second order difference equation describes the dynamics of capital stock.\"\"\"\n",
    "    price = EnergyMarket.find_market_price(capital, consumer_params, non_renewable_params, renewable_params)\n",
    "    fossil_fuel = NonRenewableEnergySector.fossil_fuel_demand(capital, price, non_renewable_params)\n",
    "    future_capital = NonRenewableEnergySector.future_capital_demand(capital, previous_capital, fossil_fuel, price, non_renewable_params)\n",
    "    return future_capital\n",
    "\n",
    "\n",
    "def non_renewable_nvmp_capital(capital, previous_capital, consumer_params, non_renewable_params, renewable_params):\n",
    "    \"\"\"Second order difference equation describes the dynamics of capital stock.\"\"\"\n",
    "    price = EnergyMarket.find_market_price(capital, consumer_params, non_renewable_params, renewable_params)\n",
    "    fossil_fuel = NonRenewableEnergySector.fossil_fuel_demand(capital, price, non_renewable_params)\n",
    "    return NonRenewableEnergySector.net_value_marginal_product_capital(capital, previous_capital, fossil_fuel, price, non_renewable_params)\n"
   ]
  },
  {
   "cell_type": "code",
   "execution_count": 5,
   "metadata": {
    "collapsed": false
   },
   "outputs": [
    {
     "data": {
      "text/plain": [
       "8228.24546114594"
      ]
     },
     "execution_count": 5,
     "metadata": {},
     "output_type": "execute_result"
    }
   ],
   "source": [
    "non_renewable_capital_dynamics(10.0, 5.0, consumer_params, non_renewable_params, renewable_params)"
   ]
  },
  {
   "cell_type": "code",
   "execution_count": 6,
   "metadata": {
    "collapsed": true
   },
   "outputs": [],
   "source": [
    "def simulate_non_renewable_capital_dynamics(initial_capital, T, consumer_params, non_renewable_params, renewable_params):\n",
    "    capital = np.empty(T)\n",
    "    capital[0:2] = initial_capital\n",
    "    \n",
    "    for t in range(2, T):\n",
    "        capital[t] = non_renewable_capital_dynamics(capital[t-1], capital[t-2], consumer_params, non_renewable_params, renewable_params)\n",
    "    \n",
    "    return capital"
   ]
  },
  {
   "cell_type": "code",
   "execution_count": 28,
   "metadata": {
    "collapsed": false
   },
   "outputs": [],
   "source": [
    "out = simulate_non_renewable_capital_dynamics(np.array([117.476, 117.476,]), 80, consumer_params, non_renewable_params, renewable_params)"
   ]
  },
  {
   "cell_type": "code",
   "execution_count": 29,
   "metadata": {
    "collapsed": false
   },
   "outputs": [
    {
     "data": {
      "text/plain": [
       "[<matplotlib.lines.Line2D at 0xf91cbf6e10>]"
      ]
     },
     "execution_count": 29,
     "metadata": {},
     "output_type": "execute_result"
    },
    {
     "data": {
      "image/png": "[encoded data removed]",
      "text/plain": [
       "<matplotlib.figure.Figure at 0xf91cba7400>"
      ]
     },
     "metadata": {},
     "output_type": "display_data"
    }
   ],
   "source": [
    "plt.plot(out)"
   ]
  },
  {
   "cell_type": "code",
   "execution_count": 15,
   "metadata": {
    "collapsed": true
   },
   "outputs": [],
   "source": [
    "def equilibrium_energy_price(beta, gross_interest_rate, fossil_fuel_price, tfp, **params):\n",
    "    return (1 / tfp) * (gross_interest_rate**beta * fossil_fuel_price**(1 - beta)) / (beta**beta * (1 - beta)**(1 - beta))"
   ]
  },
  {
   "cell_type": "code",
   "execution_count": 16,
   "metadata": {
    "collapsed": false
   },
   "outputs": [
    {
     "data": {
      "text/plain": [
       "1.9975425342898483"
      ]
     },
     "execution_count": 16,
     "metadata": {},
     "output_type": "execute_result"
    }
   ],
   "source": [
    "equilibrium_energy_price(**non_renewable_params)"
   ]
  },
  {
   "cell_type": "code",
   "execution_count": 18,
   "metadata": {
    "collapsed": true
   },
   "outputs": [],
   "source": [
    "obj = lambda capital: non_renewable_capital_dynamics(capital, capital, consumer_params, non_renewable_params, renewable_params) - capital"
   ]
  },
  {
   "cell_type": "code",
   "execution_count": 19,
   "metadata": {
    "collapsed": false
   },
   "outputs": [
    {
     "data": {
      "text/plain": [
       "4585434.254495223"
      ]
     },
     "execution_count": 19,
     "metadata": {},
     "output_type": "execute_result"
    }
   ],
   "source": [
    "obj(1)"
   ]
  },
  {
   "cell_type": "code",
   "execution_count": 20,
   "metadata": {
    "collapsed": false
   },
   "outputs": [
    {
     "data": {
      "text/plain": [
       "117.47630161391399"
      ]
     },
     "execution_count": 20,
     "metadata": {},
     "output_type": "execute_result"
    }
   ],
   "source": [
    "optimize.brentq(obj, 1, 1000)"
   ]
  },
  {
   "cell_type": "code",
   "execution_count": 30,
   "metadata": {
    "collapsed": false
   },
   "outputs": [
    {
     "data": {
      "text/plain": [
       "[<matplotlib.lines.Line2D at 0xf91cc5c0f0>]"
      ]
     },
     "execution_count": 30,
     "metadata": {},
     "output_type": "execute_result"
    },
    {
     "data": {
      "image/png": "[encoded data removed]",
      "text/plain": [
       "<matplotlib.figure.Figure at 0xf91cb4cc50>"
      ]
     },
     "metadata": {},
     "output_type": "display_data"
    }
   ],
   "source": [
    "xs = np.logspace(2, 3, 1000)\n",
    "plt.plot(xs, [obj(x) for x in xs])"
   ]
  },
  {
   "cell_type": "code",
   "execution_count": 31,
   "metadata": {
    "collapsed": true
   },
   "outputs": [],
   "source": [
    "nvpm_capital = lambda capital: non_renewable_nvmp_capital(capital, capital, consumer_params, non_renewable_params, renewable_params)"
   ]
  },
  {
   "cell_type": "code",
   "execution_count": 32,
   "metadata": {
    "collapsed": false
   },
   "outputs": [
    {
     "ename": "TypeError",
     "evalue": "net_value_marginal_product_capital() got an unexpected keyword argument 'eta'",
     "output_type": "error",
     "traceback": [
      "\u001b[1;31m---------------------------------------------------------------------------\u001b[0m",
      "\u001b[1;31mTypeError\u001b[0m                                 Traceback (most recent call last)",
      "\u001b[1;32m<ipython-input-32-7d787667e958>\u001b[0m in \u001b[0;36m<module>\u001b[1;34m()\u001b[0m\n\u001b[0;32m      1\u001b[0m \u001b[0mxs\u001b[0m \u001b[1;33m=\u001b[0m \u001b[0mnp\u001b[0m\u001b[1;33m.\u001b[0m\u001b[0mlogspace\u001b[0m\u001b[1;33m(\u001b[0m\u001b[1;36m1\u001b[0m\u001b[1;33m,\u001b[0m \u001b[1;36m4\u001b[0m\u001b[1;33m,\u001b[0m \u001b[1;36m1000\u001b[0m\u001b[1;33m)\u001b[0m\u001b[1;33m\u001b[0m\u001b[0m\n\u001b[1;32m----> 2\u001b[1;33m \u001b[0mplt\u001b[0m\u001b[1;33m.\u001b[0m\u001b[0mplot\u001b[0m\u001b[1;33m(\u001b[0m\u001b[0mxs\u001b[0m\u001b[1;33m,\u001b[0m \u001b[1;33m[\u001b[0m\u001b[0mnvpm_capital\u001b[0m\u001b[1;33m(\u001b[0m\u001b[0mx\u001b[0m\u001b[1;33m)\u001b[0m \u001b[1;32mfor\u001b[0m \u001b[0mx\u001b[0m \u001b[1;32min\u001b[0m \u001b[0mxs\u001b[0m\u001b[1;33m]\u001b[0m\u001b[1;33m)\u001b[0m\u001b[1;33m\u001b[0m\u001b[0m\n\u001b[0m\u001b[0;32m      3\u001b[0m \u001b[0mplt\u001b[0m\u001b[1;33m.\u001b[0m\u001b[0mxscale\u001b[0m\u001b[1;33m(\u001b[0m\u001b[1;34m'log'\u001b[0m\u001b[1;33m)\u001b[0m\u001b[1;33m\u001b[0m\u001b[0m\n",
      "\u001b[1;32m<ipython-input-32-7d787667e958>\u001b[0m in \u001b[0;36m<listcomp>\u001b[1;34m(.0)\u001b[0m\n\u001b[0;32m      1\u001b[0m \u001b[0mxs\u001b[0m \u001b[1;33m=\u001b[0m \u001b[0mnp\u001b[0m\u001b[1;33m.\u001b[0m\u001b[0mlogspace\u001b[0m\u001b[1;33m(\u001b[0m\u001b[1;36m1\u001b[0m\u001b[1;33m,\u001b[0m \u001b[1;36m4\u001b[0m\u001b[1;33m,\u001b[0m \u001b[1;36m1000\u001b[0m\u001b[1;33m)\u001b[0m\u001b[1;33m\u001b[0m\u001b[0m\n\u001b[1;32m----> 2\u001b[1;33m \u001b[0mplt\u001b[0m\u001b[1;33m.\u001b[0m\u001b[0mplot\u001b[0m\u001b[1;33m(\u001b[0m\u001b[0mxs\u001b[0m\u001b[1;33m,\u001b[0m \u001b[1;33m[\u001b[0m\u001b[0mnvpm_capital\u001b[0m\u001b[1;33m(\u001b[0m\u001b[0mx\u001b[0m\u001b[1;33m)\u001b[0m \u001b[1;32mfor\u001b[0m \u001b[0mx\u001b[0m \u001b[1;32min\u001b[0m \u001b[0mxs\u001b[0m\u001b[1;33m]\u001b[0m\u001b[1;33m)\u001b[0m\u001b[1;33m\u001b[0m\u001b[0m\n\u001b[0m\u001b[0;32m      3\u001b[0m \u001b[0mplt\u001b[0m\u001b[1;33m.\u001b[0m\u001b[0mxscale\u001b[0m\u001b[1;33m(\u001b[0m\u001b[1;34m'log'\u001b[0m\u001b[1;33m)\u001b[0m\u001b[1;33m\u001b[0m\u001b[0m\n",
      "\u001b[1;32m<ipython-input-31-db1d5da58bc7>\u001b[0m in \u001b[0;36m<lambda>\u001b[1;34m(capital)\u001b[0m\n\u001b[1;32m----> 1\u001b[1;33m \u001b[0mnvpm_capital\u001b[0m \u001b[1;33m=\u001b[0m \u001b[1;32mlambda\u001b[0m \u001b[0mcapital\u001b[0m\u001b[1;33m:\u001b[0m \u001b[0mnon_renewable_nvmp_capital\u001b[0m\u001b[1;33m(\u001b[0m\u001b[0mcapital\u001b[0m\u001b[1;33m,\u001b[0m \u001b[0mcapital\u001b[0m\u001b[1;33m,\u001b[0m \u001b[0mconsumer_params\u001b[0m\u001b[1;33m,\u001b[0m \u001b[0mnon_renewable_params\u001b[0m\u001b[1;33m,\u001b[0m \u001b[0mrenewable_params\u001b[0m\u001b[1;33m)\u001b[0m\u001b[1;33m\u001b[0m\u001b[0m\n\u001b[0m",
      "\u001b[1;32m<ipython-input-4-995ac8235399>\u001b[0m in \u001b[0;36mnon_renewable_nvmp_capital\u001b[1;34m(capital, previous_capital, consumer_params, non_renewable_params, renewable_params)\u001b[0m\n\u001b[0;32m     11\u001b[0m     \u001b[0mprice\u001b[0m \u001b[1;33m=\u001b[0m \u001b[0mEnergyMarket\u001b[0m\u001b[1;33m.\u001b[0m\u001b[0mfind_market_price\u001b[0m\u001b[1;33m(\u001b[0m\u001b[0mcapital\u001b[0m\u001b[1;33m,\u001b[0m \u001b[0mconsumer_params\u001b[0m\u001b[1;33m,\u001b[0m \u001b[0mnon_renewable_params\u001b[0m\u001b[1;33m,\u001b[0m \u001b[0mrenewable_params\u001b[0m\u001b[1;33m)\u001b[0m\u001b[1;33m\u001b[0m\u001b[0m\n\u001b[0;32m     12\u001b[0m     \u001b[0mfossil_fuel\u001b[0m \u001b[1;33m=\u001b[0m \u001b[0mNonRenewableEnergySector\u001b[0m\u001b[1;33m.\u001b[0m\u001b[0mfossil_fuel_demand\u001b[0m\u001b[1;33m(\u001b[0m\u001b[0mcapital\u001b[0m\u001b[1;33m,\u001b[0m \u001b[0mprice\u001b[0m\u001b[1;33m,\u001b[0m \u001b[0mnon_renewable_params\u001b[0m\u001b[1;33m)\u001b[0m\u001b[1;33m\u001b[0m\u001b[0m\n\u001b[1;32m---> 13\u001b[1;33m     \u001b[1;32mreturn\u001b[0m \u001b[0mNonRenewableEnergySector\u001b[0m\u001b[1;33m.\u001b[0m\u001b[0mnet_value_marginal_product_capital\u001b[0m\u001b[1;33m(\u001b[0m\u001b[0mcapital\u001b[0m\u001b[1;33m,\u001b[0m \u001b[0mprevious_capital\u001b[0m\u001b[1;33m,\u001b[0m \u001b[0mfossil_fuel\u001b[0m\u001b[1;33m,\u001b[0m \u001b[0menergy_price\u001b[0m\u001b[1;33m=\u001b[0m\u001b[0mprice\u001b[0m\u001b[1;33m,\u001b[0m \u001b[1;33m**\u001b[0m\u001b[0mnon_renewable_params\u001b[0m\u001b[1;33m)\u001b[0m\u001b[1;33m\u001b[0m\u001b[0m\n\u001b[0m",
      "\u001b[1;31mTypeError\u001b[0m: net_value_marginal_product_capital() got an unexpected keyword argument 'eta'"
     ]
    }
   ],
   "source": [
    "xs = np.logspace(1, 4, 1000)\n",
    "plt.plot(xs, [nvpm_capital(x) for x in xs])\n",
    "plt.xscale('log')"
   ]
  },
  {
   "cell_type": "code",
   "execution_count": 33,
   "metadata": {
    "collapsed": false
   },
   "outputs": [
    {
     "ename": "TypeError",
     "evalue": "net_value_marginal_product_capital() got an unexpected keyword argument 'eta'",
     "output_type": "error",
     "traceback": [
      "\u001b[1;31m---------------------------------------------------------------------------\u001b[0m",
      "\u001b[1;31mTypeError\u001b[0m                                 Traceback (most recent call last)",
      "\u001b[1;32m<ipython-input-33-f50cbf2b9dab>\u001b[0m in \u001b[0;36m<module>\u001b[1;34m()\u001b[0m\n\u001b[1;32m----> 1\u001b[1;33m \u001b[1;33m[\u001b[0m\u001b[0mnvpm_capital\u001b[0m\u001b[1;33m(\u001b[0m\u001b[0mx\u001b[0m\u001b[1;33m)\u001b[0m \u001b[1;32mfor\u001b[0m \u001b[0mx\u001b[0m \u001b[1;32min\u001b[0m \u001b[0mxs\u001b[0m\u001b[1;33m]\u001b[0m\u001b[1;33m\u001b[0m\u001b[0m\n\u001b[0m",
      "\u001b[1;32m<ipython-input-33-f50cbf2b9dab>\u001b[0m in \u001b[0;36m<listcomp>\u001b[1;34m(.0)\u001b[0m\n\u001b[1;32m----> 1\u001b[1;33m \u001b[1;33m[\u001b[0m\u001b[0mnvpm_capital\u001b[0m\u001b[1;33m(\u001b[0m\u001b[0mx\u001b[0m\u001b[1;33m)\u001b[0m \u001b[1;32mfor\u001b[0m \u001b[0mx\u001b[0m \u001b[1;32min\u001b[0m \u001b[0mxs\u001b[0m\u001b[1;33m]\u001b[0m\u001b[1;33m\u001b[0m\u001b[0m\n\u001b[0m",
      "\u001b[1;32m<ipython-input-31-db1d5da58bc7>\u001b[0m in \u001b[0;36m<lambda>\u001b[1;34m(capital)\u001b[0m\n\u001b[1;32m----> 1\u001b[1;33m \u001b[0mnvpm_capital\u001b[0m \u001b[1;33m=\u001b[0m \u001b[1;32mlambda\u001b[0m \u001b[0mcapital\u001b[0m\u001b[1;33m:\u001b[0m \u001b[0mnon_renewable_nvmp_capital\u001b[0m\u001b[1;33m(\u001b[0m\u001b[0mcapital\u001b[0m\u001b[1;33m,\u001b[0m \u001b[0mcapital\u001b[0m\u001b[1;33m,\u001b[0m \u001b[0mconsumer_params\u001b[0m\u001b[1;33m,\u001b[0m \u001b[0mnon_renewable_params\u001b[0m\u001b[1;33m,\u001b[0m \u001b[0mrenewable_params\u001b[0m\u001b[1;33m)\u001b[0m\u001b[1;33m\u001b[0m\u001b[0m\n\u001b[0m",
      "\u001b[1;32m<ipython-input-4-995ac8235399>\u001b[0m in \u001b[0;36mnon_renewable_nvmp_capital\u001b[1;34m(capital, previous_capital, consumer_params, non_renewable_params, renewable_params)\u001b[0m\n\u001b[0;32m     11\u001b[0m     \u001b[0mprice\u001b[0m \u001b[1;33m=\u001b[0m \u001b[0mEnergyMarket\u001b[0m\u001b[1;33m.\u001b[0m\u001b[0mfind_market_price\u001b[0m\u001b[1;33m(\u001b[0m\u001b[0mcapital\u001b[0m\u001b[1;33m,\u001b[0m \u001b[0mconsumer_params\u001b[0m\u001b[1;33m,\u001b[0m \u001b[0mnon_renewable_params\u001b[0m\u001b[1;33m,\u001b[0m \u001b[0mrenewable_params\u001b[0m\u001b[1;33m)\u001b[0m\u001b[1;33m\u001b[0m\u001b[0m\n\u001b[0;32m     12\u001b[0m     \u001b[0mfossil_fuel\u001b[0m \u001b[1;33m=\u001b[0m \u001b[0mNonRenewableEnergySector\u001b[0m\u001b[1;33m.\u001b[0m\u001b[0mfossil_fuel_demand\u001b[0m\u001b[1;33m(\u001b[0m\u001b[0mcapital\u001b[0m\u001b[1;33m,\u001b[0m \u001b[0mprice\u001b[0m\u001b[1;33m,\u001b[0m \u001b[0mnon_renewable_params\u001b[0m\u001b[1;33m)\u001b[0m\u001b[1;33m\u001b[0m\u001b[0m\n\u001b[1;32m---> 13\u001b[1;33m     \u001b[1;32mreturn\u001b[0m \u001b[0mNonRenewableEnergySector\u001b[0m\u001b[1;33m.\u001b[0m\u001b[0mnet_value_marginal_product_capital\u001b[0m\u001b[1;33m(\u001b[0m\u001b[0mcapital\u001b[0m\u001b[1;33m,\u001b[0m \u001b[0mprevious_capital\u001b[0m\u001b[1;33m,\u001b[0m \u001b[0mfossil_fuel\u001b[0m\u001b[1;33m,\u001b[0m \u001b[0menergy_price\u001b[0m\u001b[1;33m=\u001b[0m\u001b[0mprice\u001b[0m\u001b[1;33m,\u001b[0m \u001b[1;33m**\u001b[0m\u001b[0mnon_renewable_params\u001b[0m\u001b[1;33m)\u001b[0m\u001b[1;33m\u001b[0m\u001b[0m\n\u001b[0m",
      "\u001b[1;31mTypeError\u001b[0m: net_value_marginal_product_capital() got an unexpected keyword argument 'eta'"
     ]
    }
   ],
   "source": [
    "[nvpm_capital(x) for x in xs]"
   ]
  },
  {
   "cell_type": "code",
   "execution_count": null,
   "metadata": {
    "collapsed": true
   },
   "outputs": [],
   "source": []
  }
 ],
 "metadata": {
  "kernelspec": {
   "display_name": "Python [Root]",
   "language": "python",
   "name": "Python [Root]"
  },
  "language_info": {
   "codemirror_mode": {
    "name": "ipython",
    "version": 3
   },
   "file_extension": ".py",
   "mimetype": "text/x-python",
   "name": "python",
   "nbconvert_exporter": "python",
   "pygments_lexer": "ipython3",
   "version": "3.5.2"
  }
 },
 "nbformat": 4,
 "nbformat_minor": 0
}
